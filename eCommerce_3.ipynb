{
 "cells": [
  {
   "cell_type": "markdown",
   "metadata": {
    "id": "OwHK7mHQT2aB"
   },
   "source": [
    "# eCommerce Product Recommendation - Part 3"
   ]
  },
  {
   "cell_type": "markdown",
   "metadata": {
    "id": "CoknezhTpCGn"
   },
   "source": [
    "# 1. Load Feature Data"
   ]
  },
  {
   "cell_type": "code",
   "execution_count": 7,
   "metadata": {
    "id": "axPvI--WNCjK"
   },
   "outputs": [],
   "source": [
    "import warnings\n",
    "warnings.filterwarnings(\"ignore\")"
   ]
  },
  {
   "cell_type": "code",
   "execution_count": 12,
   "metadata": {
    "id": "6K-Pkvfzn6H5"
   },
   "outputs": [],
   "source": [
    "import pandas as pd\n",
    "import numpy as np\n",
    "import seaborn as sns\n",
    "import matplotlib.pyplot as plt\n",
    "\n",
    "\n",
    "from imblearn.pipeline import Pipeline \n",
    "from imblearn.under_sampling import RandomUnderSampler \n",
    "from imblearn.over_sampling import RandomOverSampler\n",
    "from sklearn.impute import SimpleImputer\n",
    "from sklearn.model_selection import cross_val_score\n",
    "from sklearn.preprocessing import MinMaxScaler\n",
    "from sklearn.neighbors import KNeighborsClassifier\n",
    "from sklearn.ensemble import RandomForestClassifier, AdaBoostClassifier, GradientBoostingClassifier\n",
    "from sklearn.linear_model import LogisticRegression\n",
    "from sklearn.tree import DecisionTreeClassifier\n",
    "from sklearn.model_selection import cross_val_score\n",
    "from sklearn.model_selection import GridSearchCV\n",
    "\n",
    "from sklearn.metrics import accuracy_score\n",
    "from sklearn.metrics import precision_score\n",
    "from sklearn.metrics import recall_score\n",
    "from sklearn.metrics import f1_score\n",
    "from sklearn.metrics import roc_auc_score"
   ]
  },
  {
   "cell_type": "code",
   "execution_count": 13,
   "metadata": {
    "id": "kxT1rECQaan9"
   },
   "outputs": [],
   "source": [
    "model_all_data = pd.read_csv('model_all_data.csv')"
   ]
  },
  {
   "cell_type": "code",
   "execution_count": 14,
   "metadata": {
    "colab": {
     "base_uri": "https://localhost:8080/",
     "height": 299
    },
    "id": "ogkkgusQtY0_",
    "outputId": "21c7f59f-938f-4a01-875a-190ea15ac187"
   },
   "outputs": [
    {
     "data": {
      "text/html": [
       "<div>\n",
       "<style scoped>\n",
       "    .dataframe tbody tr th:only-of-type {\n",
       "        vertical-align: middle;\n",
       "    }\n",
       "\n",
       "    .dataframe tbody tr th {\n",
       "        vertical-align: top;\n",
       "    }\n",
       "\n",
       "    .dataframe thead th {\n",
       "        text-align: right;\n",
       "    }\n",
       "</style>\n",
       "<table border=\"1\" class=\"dataframe\">\n",
       "  <thead>\n",
       "    <tr style=\"text-align: right;\">\n",
       "      <th></th>\n",
       "      <th>user_id</th>\n",
       "      <th>product_id</th>\n",
       "      <th>order_number</th>\n",
       "      <th>order_dow</th>\n",
       "      <th>order_hour_of_day</th>\n",
       "      <th>days_since_prior_order</th>\n",
       "      <th>unique_key</th>\n",
       "      <th>label</th>\n",
       "      <th>user_product__total_orders</th>\n",
       "      <th>user_product__add_to_cart_order_mean</th>\n",
       "      <th>...</th>\n",
       "      <th>product__most_hod</th>\n",
       "      <th>product__days_since_prior_order_mean</th>\n",
       "      <th>product__aisle_id</th>\n",
       "      <th>product__department_id</th>\n",
       "      <th>user__order_count</th>\n",
       "      <th>user__product_count</th>\n",
       "      <th>user__days_since_prior_order_mean</th>\n",
       "      <th>user__reordered_mean</th>\n",
       "      <th>user__most_dow</th>\n",
       "      <th>user__most_hod</th>\n",
       "    </tr>\n",
       "  </thead>\n",
       "  <tbody>\n",
       "    <tr>\n",
       "      <th>0</th>\n",
       "      <td>152610</td>\n",
       "      <td>30597</td>\n",
       "      <td>22</td>\n",
       "      <td>6</td>\n",
       "      <td>8</td>\n",
       "      <td>10.0</td>\n",
       "      <td>152610_30597</td>\n",
       "      <td>0</td>\n",
       "      <td>5</td>\n",
       "      <td>2.00</td>\n",
       "      <td>...</td>\n",
       "      <td>9</td>\n",
       "      <td>12.592593</td>\n",
       "      <td>53</td>\n",
       "      <td>16</td>\n",
       "      <td>26</td>\n",
       "      <td>408</td>\n",
       "      <td>10.953804</td>\n",
       "      <td>0.375</td>\n",
       "      <td>6</td>\n",
       "      <td>12</td>\n",
       "    </tr>\n",
       "    <tr>\n",
       "      <th>1</th>\n",
       "      <td>152610</td>\n",
       "      <td>15221</td>\n",
       "      <td>22</td>\n",
       "      <td>6</td>\n",
       "      <td>8</td>\n",
       "      <td>10.0</td>\n",
       "      <td>152610_15221</td>\n",
       "      <td>0</td>\n",
       "      <td>8</td>\n",
       "      <td>8.25</td>\n",
       "      <td>...</td>\n",
       "      <td>12</td>\n",
       "      <td>13.653846</td>\n",
       "      <td>84</td>\n",
       "      <td>16</td>\n",
       "      <td>26</td>\n",
       "      <td>408</td>\n",
       "      <td>10.953804</td>\n",
       "      <td>0.375</td>\n",
       "      <td>6</td>\n",
       "      <td>12</td>\n",
       "    </tr>\n",
       "    <tr>\n",
       "      <th>2</th>\n",
       "      <td>152610</td>\n",
       "      <td>43772</td>\n",
       "      <td>22</td>\n",
       "      <td>6</td>\n",
       "      <td>8</td>\n",
       "      <td>10.0</td>\n",
       "      <td>152610_43772</td>\n",
       "      <td>0</td>\n",
       "      <td>2</td>\n",
       "      <td>3.00</td>\n",
       "      <td>...</td>\n",
       "      <td>12</td>\n",
       "      <td>12.008565</td>\n",
       "      <td>83</td>\n",
       "      <td>4</td>\n",
       "      <td>26</td>\n",
       "      <td>408</td>\n",
       "      <td>10.953804</td>\n",
       "      <td>0.375</td>\n",
       "      <td>6</td>\n",
       "      <td>12</td>\n",
       "    </tr>\n",
       "    <tr>\n",
       "      <th>3</th>\n",
       "      <td>152610</td>\n",
       "      <td>37886</td>\n",
       "      <td>22</td>\n",
       "      <td>6</td>\n",
       "      <td>8</td>\n",
       "      <td>10.0</td>\n",
       "      <td>152610_37886</td>\n",
       "      <td>0</td>\n",
       "      <td>2</td>\n",
       "      <td>3.50</td>\n",
       "      <td>...</td>\n",
       "      <td>14</td>\n",
       "      <td>11.489362</td>\n",
       "      <td>53</td>\n",
       "      <td>16</td>\n",
       "      <td>26</td>\n",
       "      <td>408</td>\n",
       "      <td>10.953804</td>\n",
       "      <td>0.375</td>\n",
       "      <td>6</td>\n",
       "      <td>12</td>\n",
       "    </tr>\n",
       "    <tr>\n",
       "      <th>4</th>\n",
       "      <td>152610</td>\n",
       "      <td>37215</td>\n",
       "      <td>22</td>\n",
       "      <td>6</td>\n",
       "      <td>8</td>\n",
       "      <td>10.0</td>\n",
       "      <td>152610_37215</td>\n",
       "      <td>0</td>\n",
       "      <td>1</td>\n",
       "      <td>5.00</td>\n",
       "      <td>...</td>\n",
       "      <td>13</td>\n",
       "      <td>11.490066</td>\n",
       "      <td>98</td>\n",
       "      <td>7</td>\n",
       "      <td>26</td>\n",
       "      <td>408</td>\n",
       "      <td>10.953804</td>\n",
       "      <td>0.375</td>\n",
       "      <td>6</td>\n",
       "      <td>12</td>\n",
       "    </tr>\n",
       "  </tbody>\n",
       "</table>\n",
       "<p>5 rows × 28 columns</p>\n",
       "</div>"
      ],
      "text/plain": [
       "   user_id  product_id  order_number  order_dow  order_hour_of_day  \\\n",
       "0   152610       30597            22          6                  8   \n",
       "1   152610       15221            22          6                  8   \n",
       "2   152610       43772            22          6                  8   \n",
       "3   152610       37886            22          6                  8   \n",
       "4   152610       37215            22          6                  8   \n",
       "\n",
       "   days_since_prior_order    unique_key  label  user_product__total_orders  \\\n",
       "0                    10.0  152610_30597      0                           5   \n",
       "1                    10.0  152610_15221      0                           8   \n",
       "2                    10.0  152610_43772      0                           2   \n",
       "3                    10.0  152610_37886      0                           2   \n",
       "4                    10.0  152610_37215      0                           1   \n",
       "\n",
       "   user_product__add_to_cart_order_mean  ...  product__most_hod  \\\n",
       "0                                  2.00  ...                  9   \n",
       "1                                  8.25  ...                 12   \n",
       "2                                  3.00  ...                 12   \n",
       "3                                  3.50  ...                 14   \n",
       "4                                  5.00  ...                 13   \n",
       "\n",
       "   product__days_since_prior_order_mean  product__aisle_id  \\\n",
       "0                             12.592593                 53   \n",
       "1                             13.653846                 84   \n",
       "2                             12.008565                 83   \n",
       "3                             11.489362                 53   \n",
       "4                             11.490066                 98   \n",
       "\n",
       "   product__department_id  user__order_count  user__product_count  \\\n",
       "0                      16                 26                  408   \n",
       "1                      16                 26                  408   \n",
       "2                       4                 26                  408   \n",
       "3                      16                 26                  408   \n",
       "4                       7                 26                  408   \n",
       "\n",
       "   user__days_since_prior_order_mean  user__reordered_mean  user__most_dow  \\\n",
       "0                          10.953804                 0.375               6   \n",
       "1                          10.953804                 0.375               6   \n",
       "2                          10.953804                 0.375               6   \n",
       "3                          10.953804                 0.375               6   \n",
       "4                          10.953804                 0.375               6   \n",
       "\n",
       "   user__most_hod  \n",
       "0              12  \n",
       "1              12  \n",
       "2              12  \n",
       "3              12  \n",
       "4              12  \n",
       "\n",
       "[5 rows x 28 columns]"
      ]
     },
     "execution_count": 14,
     "metadata": {},
     "output_type": "execute_result"
    }
   ],
   "source": [
    "model_all_data.head()"
   ]
  },
  {
   "cell_type": "code",
   "execution_count": 17,
   "metadata": {
    "id": "Luaz0Ak8oWxT"
   },
   "outputs": [],
   "source": [
    "unique_key = ['user_id', 'product_id']\n",
    "\n",
    "raw_features = ['order_number',\n",
    "                     'order_dow',\n",
    "                     'order_hour_of_day',\n",
    "                     'days_since_prior_order',\n",
    "                     'user_product__total_orders',\n",
    "                     'user_product__add_to_cart_order_mean',\n",
    "                     'user_product__reordered_mean',\n",
    "                     'user_product__most_dow',\n",
    "                     'user_product__most_hod',\n",
    "                     'product__total_orders',\n",
    "                     'product__add_to_cart_order_mean',\n",
    "                     'product__total_users',\n",
    "                     'product__reordered_mean',\n",
    "                     'product__most_dow',\n",
    "                     'product__most_hod',\n",
    "                     'product__days_since_prior_order_mean',\n",
    "                     'user__order_count',\n",
    "                     'user__product_count',\n",
    "                     'user__days_since_prior_order_mean',\n",
    "                     'user__reordered_mean',\n",
    "                     'user__most_dow',\n",
    "                     'user__most_hod',\n",
    "                     'product__aisle_id',\n",
    "                     'product__department_id',\n",
    "                     ]\n",
    "                   \n",
    "label = ['label']"
   ]
  },
  {
   "cell_type": "code",
   "execution_count": 18,
   "metadata": {
    "id": "7vxDeP_Jos-s"
   },
   "outputs": [],
   "source": [
    "model_all_data = model_all_data[unique_key + raw_features + label]"
   ]
  },
  {
   "cell_type": "code",
   "execution_count": 19,
   "metadata": {
    "colab": {
     "base_uri": "https://localhost:8080/",
     "height": 299
    },
    "id": "HSa9U-1Dow8g",
    "outputId": "918064d2-52d5-4dde-e45a-a83d6a6618a7"
   },
   "outputs": [
    {
     "data": {
      "text/html": [
       "<div>\n",
       "<style scoped>\n",
       "    .dataframe tbody tr th:only-of-type {\n",
       "        vertical-align: middle;\n",
       "    }\n",
       "\n",
       "    .dataframe tbody tr th {\n",
       "        vertical-align: top;\n",
       "    }\n",
       "\n",
       "    .dataframe thead th {\n",
       "        text-align: right;\n",
       "    }\n",
       "</style>\n",
       "<table border=\"1\" class=\"dataframe\">\n",
       "  <thead>\n",
       "    <tr style=\"text-align: right;\">\n",
       "      <th></th>\n",
       "      <th>user_id</th>\n",
       "      <th>product_id</th>\n",
       "      <th>order_number</th>\n",
       "      <th>order_dow</th>\n",
       "      <th>order_hour_of_day</th>\n",
       "      <th>days_since_prior_order</th>\n",
       "      <th>user_product__total_orders</th>\n",
       "      <th>user_product__add_to_cart_order_mean</th>\n",
       "      <th>user_product__reordered_mean</th>\n",
       "      <th>user_product__most_dow</th>\n",
       "      <th>...</th>\n",
       "      <th>product__days_since_prior_order_mean</th>\n",
       "      <th>user__order_count</th>\n",
       "      <th>user__product_count</th>\n",
       "      <th>user__days_since_prior_order_mean</th>\n",
       "      <th>user__reordered_mean</th>\n",
       "      <th>user__most_dow</th>\n",
       "      <th>user__most_hod</th>\n",
       "      <th>product__aisle_id</th>\n",
       "      <th>product__department_id</th>\n",
       "      <th>label</th>\n",
       "    </tr>\n",
       "  </thead>\n",
       "  <tbody>\n",
       "    <tr>\n",
       "      <th>0</th>\n",
       "      <td>152610</td>\n",
       "      <td>30597</td>\n",
       "      <td>22</td>\n",
       "      <td>6</td>\n",
       "      <td>8</td>\n",
       "      <td>10.0</td>\n",
       "      <td>5</td>\n",
       "      <td>2.00</td>\n",
       "      <td>0.800</td>\n",
       "      <td>6</td>\n",
       "      <td>...</td>\n",
       "      <td>12.592593</td>\n",
       "      <td>26</td>\n",
       "      <td>408</td>\n",
       "      <td>10.953804</td>\n",
       "      <td>0.375</td>\n",
       "      <td>6</td>\n",
       "      <td>12</td>\n",
       "      <td>53</td>\n",
       "      <td>16</td>\n",
       "      <td>0</td>\n",
       "    </tr>\n",
       "    <tr>\n",
       "      <th>1</th>\n",
       "      <td>152610</td>\n",
       "      <td>15221</td>\n",
       "      <td>22</td>\n",
       "      <td>6</td>\n",
       "      <td>8</td>\n",
       "      <td>10.0</td>\n",
       "      <td>8</td>\n",
       "      <td>8.25</td>\n",
       "      <td>0.875</td>\n",
       "      <td>4</td>\n",
       "      <td>...</td>\n",
       "      <td>13.653846</td>\n",
       "      <td>26</td>\n",
       "      <td>408</td>\n",
       "      <td>10.953804</td>\n",
       "      <td>0.375</td>\n",
       "      <td>6</td>\n",
       "      <td>12</td>\n",
       "      <td>84</td>\n",
       "      <td>16</td>\n",
       "      <td>0</td>\n",
       "    </tr>\n",
       "    <tr>\n",
       "      <th>2</th>\n",
       "      <td>152610</td>\n",
       "      <td>43772</td>\n",
       "      <td>22</td>\n",
       "      <td>6</td>\n",
       "      <td>8</td>\n",
       "      <td>10.0</td>\n",
       "      <td>2</td>\n",
       "      <td>3.00</td>\n",
       "      <td>0.500</td>\n",
       "      <td>5</td>\n",
       "      <td>...</td>\n",
       "      <td>12.008565</td>\n",
       "      <td>26</td>\n",
       "      <td>408</td>\n",
       "      <td>10.953804</td>\n",
       "      <td>0.375</td>\n",
       "      <td>6</td>\n",
       "      <td>12</td>\n",
       "      <td>83</td>\n",
       "      <td>4</td>\n",
       "      <td>0</td>\n",
       "    </tr>\n",
       "    <tr>\n",
       "      <th>3</th>\n",
       "      <td>152610</td>\n",
       "      <td>37886</td>\n",
       "      <td>22</td>\n",
       "      <td>6</td>\n",
       "      <td>8</td>\n",
       "      <td>10.0</td>\n",
       "      <td>2</td>\n",
       "      <td>3.50</td>\n",
       "      <td>0.500</td>\n",
       "      <td>6</td>\n",
       "      <td>...</td>\n",
       "      <td>11.489362</td>\n",
       "      <td>26</td>\n",
       "      <td>408</td>\n",
       "      <td>10.953804</td>\n",
       "      <td>0.375</td>\n",
       "      <td>6</td>\n",
       "      <td>12</td>\n",
       "      <td>53</td>\n",
       "      <td>16</td>\n",
       "      <td>0</td>\n",
       "    </tr>\n",
       "    <tr>\n",
       "      <th>4</th>\n",
       "      <td>152610</td>\n",
       "      <td>37215</td>\n",
       "      <td>22</td>\n",
       "      <td>6</td>\n",
       "      <td>8</td>\n",
       "      <td>10.0</td>\n",
       "      <td>1</td>\n",
       "      <td>5.00</td>\n",
       "      <td>0.000</td>\n",
       "      <td>6</td>\n",
       "      <td>...</td>\n",
       "      <td>11.490066</td>\n",
       "      <td>26</td>\n",
       "      <td>408</td>\n",
       "      <td>10.953804</td>\n",
       "      <td>0.375</td>\n",
       "      <td>6</td>\n",
       "      <td>12</td>\n",
       "      <td>98</td>\n",
       "      <td>7</td>\n",
       "      <td>0</td>\n",
       "    </tr>\n",
       "  </tbody>\n",
       "</table>\n",
       "<p>5 rows × 27 columns</p>\n",
       "</div>"
      ],
      "text/plain": [
       "   user_id  product_id  order_number  order_dow  order_hour_of_day  \\\n",
       "0   152610       30597            22          6                  8   \n",
       "1   152610       15221            22          6                  8   \n",
       "2   152610       43772            22          6                  8   \n",
       "3   152610       37886            22          6                  8   \n",
       "4   152610       37215            22          6                  8   \n",
       "\n",
       "   days_since_prior_order  user_product__total_orders  \\\n",
       "0                    10.0                           5   \n",
       "1                    10.0                           8   \n",
       "2                    10.0                           2   \n",
       "3                    10.0                           2   \n",
       "4                    10.0                           1   \n",
       "\n",
       "   user_product__add_to_cart_order_mean  user_product__reordered_mean  \\\n",
       "0                                  2.00                         0.800   \n",
       "1                                  8.25                         0.875   \n",
       "2                                  3.00                         0.500   \n",
       "3                                  3.50                         0.500   \n",
       "4                                  5.00                         0.000   \n",
       "\n",
       "   user_product__most_dow  ...  product__days_since_prior_order_mean  \\\n",
       "0                       6  ...                             12.592593   \n",
       "1                       4  ...                             13.653846   \n",
       "2                       5  ...                             12.008565   \n",
       "3                       6  ...                             11.489362   \n",
       "4                       6  ...                             11.490066   \n",
       "\n",
       "   user__order_count  user__product_count  user__days_since_prior_order_mean  \\\n",
       "0                 26                  408                          10.953804   \n",
       "1                 26                  408                          10.953804   \n",
       "2                 26                  408                          10.953804   \n",
       "3                 26                  408                          10.953804   \n",
       "4                 26                  408                          10.953804   \n",
       "\n",
       "   user__reordered_mean  user__most_dow  user__most_hod  product__aisle_id  \\\n",
       "0                 0.375               6              12                 53   \n",
       "1                 0.375               6              12                 84   \n",
       "2                 0.375               6              12                 83   \n",
       "3                 0.375               6              12                 53   \n",
       "4                 0.375               6              12                 98   \n",
       "\n",
       "   product__department_id  label  \n",
       "0                      16      0  \n",
       "1                      16      0  \n",
       "2                       4      0  \n",
       "3                      16      0  \n",
       "4                       7      0  \n",
       "\n",
       "[5 rows x 27 columns]"
      ]
     },
     "execution_count": 19,
     "metadata": {},
     "output_type": "execute_result"
    }
   ],
   "source": [
    "model_all_data.head()"
   ]
  },
  {
   "cell_type": "markdown",
   "metadata": {
    "id": "6TJxEfPopfI6"
   },
   "source": [
    "# 2. Feature Data Analysis & Tranformation"
   ]
  },
  {
   "cell_type": "markdown",
   "metadata": {
    "id": "ObTVgGe3pm2c"
   },
   "source": [
    "2.1. Label Ratio"
   ]
  },
  {
   "cell_type": "code",
   "execution_count": 20,
   "metadata": {
    "colab": {
     "base_uri": "https://localhost:8080/"
    },
    "id": "XVj-GV6QpWiF",
    "outputId": "de41c963-3863-4754-eb15-ccfbd4cd0221"
   },
   "outputs": [
    {
     "name": "stdout",
     "output_type": "stream",
     "text": [
      "Negative label count:  297467\n",
      "Positive label count:  32339\n",
      "Positive label rate is 9.81%\n"
     ]
    }
   ],
   "source": [
    "label_count = model_all_data.label.value_counts()\n",
    "print(\"Negative label count: \", label_count[0])\n",
    "print(\"Positive label count: \", label_count[1])\n",
    "print(\"Positive label rate is {:.2f}%\".format(\n",
    "      label_count[1] / (label_count[0] + label_count[1]) * 100) )"
   ]
  },
  {
   "cell_type": "code",
   "execution_count": 21,
   "metadata": {
    "colab": {
     "base_uri": "https://localhost:8080/",
     "height": 281
    },
    "id": "xs2FKtjToxya",
    "outputId": "abd191d7-24ba-433f-e205-8270b0688f58"
   },
   "outputs": [
    {
     "data": {
      "image/png": "[encoded data removed]",
      "text/plain": [
       "<Figure size 432x288 with 1 Axes>"
      ]
     },
     "metadata": {
      "needs_background": "light"
     },
     "output_type": "display_data"
    }
   ],
   "source": [
    "ax = label_count.sort_values().plot(kind='barh', title='Labels Count')\n",
    "ax.grid(axis=\"x\")"
   ]
  },
  {
   "cell_type": "markdown",
   "metadata": {
    "id": "s-G6r5JxrDf1"
   },
   "source": [
    "2.2. Null value check"
   ]
  },
  {
   "cell_type": "code",
   "execution_count": 22,
   "metadata": {
    "colab": {
     "base_uri": "https://localhost:8080/"
    },
    "id": "YDOcN-_wrDQG",
    "outputId": "15c2e0c8-375b-4883-becd-414d8a2b71d1"
   },
   "outputs": [
    {
     "data": {
      "text/plain": [
       "user_id                                     0\n",
       "product_id                                  0\n",
       "order_number                                0\n",
       "order_dow                                   0\n",
       "order_hour_of_day                           0\n",
       "days_since_prior_order                  29995\n",
       "user_product__total_orders                  0\n",
       "user_product__add_to_cart_order_mean        0\n",
       "user_product__reordered_mean                0\n",
       "user_product__most_dow                      0\n",
       "user_product__most_hod                      0\n",
       "product__total_orders                       0\n",
       "product__add_to_cart_order_mean             0\n",
       "product__total_users                        0\n",
       "product__reordered_mean                     0\n",
       "product__most_dow                           0\n",
       "product__most_hod                           0\n",
       "product__days_since_prior_order_mean      726\n",
       "user__order_count                           0\n",
       "user__product_count                         0\n",
       "user__days_since_prior_order_mean           0\n",
       "user__reordered_mean                        0\n",
       "user__most_dow                              0\n",
       "user__most_hod                              0\n",
       "product__aisle_id                           0\n",
       "product__department_id                      0\n",
       "label                                       0\n",
       "dtype: int64"
      ]
     },
     "execution_count": 22,
     "metadata": {},
     "output_type": "execute_result"
    }
   ],
   "source": [
    "model_all_data.isna().sum()"
   ]
  },
  {
   "cell_type": "markdown",
   "metadata": {
    "id": "isKWh5gVrVO9"
   },
   "source": [
    "2.3. Categorical Feature Transformation\n"
   ]
  },
  {
   "cell_type": "code",
   "execution_count": 23,
   "metadata": {
    "id": "CgwwX0Q-qHRz"
   },
   "outputs": [],
   "source": [
    "# One-hot encoding for the `product__department_id` feature.\n",
    "model_all_data = pd.concat(\n",
    "    [model_all_data.drop('product__department_id',axis=1),\n",
    "     pd.get_dummies(model_all_data[\"product__department_id\"],\n",
    "                    prefix='product__department_id_')],\n",
    "                     axis=1)"
   ]
  },
  {
   "cell_type": "markdown",
   "metadata": {
    "id": "wColDjFnsbLi"
   },
   "source": [
    "# 3. Split Dataset to Train, Validation and Test"
   ]
  },
  {
   "cell_type": "markdown",
   "metadata": {
    "id": "dswd8BaZssuj"
   },
   "source": [
    "In order to do model training, model selection and evaluation, we split `model_all_data` to three parts: train, validation, test."
   ]
  },
  {
   "cell_type": "code",
   "execution_count": 24,
   "metadata": {
    "id": "65tqr0gAttGL"
   },
   "outputs": [],
   "source": [
    "# We randomly select 20% users as test data. \n",
    "# The remaining data will be used as train & validation data.\n",
    "test_user_ids = model_all_data.user_id.drop_duplicates().sample(frac=0.2)\n",
    "\n",
    "train_validation_data = model_all_data[~model_all_data.user_id.isin(test_user_ids)]\n",
    "test_data = model_all_data[model_all_data.user_id.isin(test_user_ids)]"
   ]
  },
  {
   "cell_type": "code",
   "execution_count": 25,
   "metadata": {
    "colab": {
     "base_uri": "https://localhost:8080/"
    },
    "id": "4Ph83khusTut",
    "outputId": "a326d2dd-e379-48c4-fe34-5c1e11ce3c00"
   },
   "outputs": [
    {
     "data": {
      "text/plain": [
       "(329806, 47)"
      ]
     },
     "execution_count": 25,
     "metadata": {},
     "output_type": "execute_result"
    }
   ],
   "source": [
    "model_all_data.shape"
   ]
  },
  {
   "cell_type": "code",
   "execution_count": 26,
   "metadata": {
    "colab": {
     "base_uri": "https://localhost:8080/"
    },
    "id": "ZRj7Tp-0umcc",
    "outputId": "ad56b5cb-bdb7-4500-aa6a-17aefeb49cca"
   },
   "outputs": [
    {
     "data": {
      "text/plain": [
       "(262234, 47)"
      ]
     },
     "execution_count": 26,
     "metadata": {},
     "output_type": "execute_result"
    }
   ],
   "source": [
    "train_validation_data.shape"
   ]
  },
  {
   "cell_type": "code",
   "execution_count": 27,
   "metadata": {
    "colab": {
     "base_uri": "https://localhost:8080/"
    },
    "id": "xtBwSUXwu-5w",
    "outputId": "f6879936-d95d-4c4c-9cf1-0fce6656d8bf"
   },
   "outputs": [
    {
     "data": {
      "text/plain": [
       "(67572, 47)"
      ]
     },
     "execution_count": 27,
     "metadata": {},
     "output_type": "execute_result"
    }
   ],
   "source": [
    "test_data.shape"
   ]
  },
  {
   "cell_type": "markdown",
   "metadata": {
    "id": "751m91O-D2J4"
   },
   "source": [
    "# 4. Model Selection with Cross Validation"
   ]
  },
  {
   "cell_type": "markdown",
   "metadata": {
    "id": "wF04v6wkn6Cy"
   },
   "source": [
    "4.1. Model Selection with All Features"
   ]
  },
  {
   "cell_type": "code",
   "execution_count": 28,
   "metadata": {
    "id": "3SuiquaZKhgb"
   },
   "outputs": [],
   "source": [
    "train_validation_data_x = train_validation_data.drop(['user_id', 'product_id', 'label'],axis=1)\n",
    "train_validation_data_y = train_validation_data['label']"
   ]
  },
  {
   "cell_type": "code",
   "execution_count": 29,
   "metadata": {
    "id": "ggI9_UAB_VX6"
   },
   "outputs": [],
   "source": [
    "classifiers = [\n",
    "    LogisticRegression(),\n",
    "    DecisionTreeClassifier(),\n",
    "    RandomForestClassifier(),\n",
    "    AdaBoostClassifier(),\n",
    "    GradientBoostingClassifier(),\n",
    "    ]"
   ]
  },
  {
   "cell_type": "code",
   "execution_count": 30,
   "metadata": {
    "id": "95HAZDDrMbEj"
   },
   "outputs": [],
   "source": [
    "def build_ml_pipeline(classifier): \n",
    "  steps = list()\n",
    "  steps.append(('fillnan', SimpleImputer(missing_values=np.nan, strategy='constant', fill_value=0.0)))\n",
    "  steps.append(('downSample', RandomUnderSampler()))\n",
    "  steps.append(('scaler', MinMaxScaler()))\n",
    "  steps.append(('model', classifier))\n",
    "  pipeline = Pipeline(steps=steps)\n",
    "  return pipeline"
   ]
  },
  {
   "cell_type": "code",
   "execution_count": 31,
   "metadata": {
    "colab": {
     "base_uri": "https://localhost:8080/"
    },
    "id": "3on93yGbMtkr",
    "outputId": "393486b3-a7d1-46bc-befb-85aa209a5ce2"
   },
   "outputs": [
    {
     "name": "stdout",
     "output_type": "stream",
     "text": [
      "Wall time: 8.85 s\n",
      "LogisticRegression : F1 value is 34.869 (2.531)\n",
      "==============\n",
      "Wall time: 13.6 s\n",
      "DecisionTreeClassifier : F1 value is 24.699 (1.181)\n",
      "==============\n",
      "Wall time: 2min 2s\n",
      "RandomForestClassifier : F1 value is 33.897 (2.844)\n",
      "==============\n",
      "Wall time: 1min 3s\n",
      "AdaBoostClassifier : F1 value is 34.310 (3.437)\n",
      "==============\n",
      "Wall time: 3min 13s\n",
      "GradientBoostingClassifier : F1 value is 35.229 (3.313)\n",
      "==============\n"
     ]
    }
   ],
   "source": [
    "for classifier in classifiers:\n",
    "  pipeline = build_ml_pipeline(classifier)\n",
    "  %time scores = cross_val_score(pipeline, train_validation_data_x, train_validation_data_y, cv=5, scoring='f1')\n",
    "  print(classifier.__class__.__name__, ': F1 value is %.3f (%.3f)' % (np.mean(scores)*100, np.std(scores)*100))\n",
    "  print('==============')"
   ]
  },
  {
   "cell_type": "markdown",
   "metadata": {
    "id": "r9O2Y0OZrQsW"
   },
   "source": [
    "4.2. Feature Selection"
   ]
  },
  {
   "cell_type": "code",
   "execution_count": 32,
   "metadata": {
    "colab": {
     "base_uri": "https://localhost:8080/"
    },
    "id": "xVEukT4ur16y",
    "outputId": "460842e0-545c-4413-ce05-378ef294aabe"
   },
   "outputs": [
    {
     "data": {
      "text/html": [
       "<style>#sk-container-id-1 {color: black;background-color: white;}#sk-container-id-1 pre{padding: 0;}#sk-container-id-1 div.sk-toggleable {background-color: white;}#sk-container-id-1 label.sk-toggleable__label {cursor: pointer;display: block;width: 100%;margin-bottom: 0;padding: 0.3em;box-sizing: border-box;text-align: center;}#sk-container-id-1 label.sk-toggleable__label-arrow:before {content: \"▸\";float: left;margin-right: 0.25em;color: #696969;}#sk-container-id-1 label.sk-toggleable__label-arrow:hover:before {color: black;}#sk-container-id-1 div.sk-estimator:hover label.sk-toggleable__label-arrow:before {color: black;}#sk-container-id-1 div.sk-toggleable__content {max-height: 0;max-width: 0;overflow: hidden;text-align: left;background-color: #f0f8ff;}#sk-container-id-1 div.sk-toggleable__content pre {margin: 0.2em;color: black;border-radius: 0.25em;background-color: #f0f8ff;}#sk-container-id-1 input.sk-toggleable__control:checked~div.sk-toggleable__content {max-height: 200px;max-width: 100%;overflow: auto;}#sk-container-id-1 input.sk-toggleable__control:checked~label.sk-toggleable__label-arrow:before {content: \"▾\";}#sk-container-id-1 div.sk-estimator input.sk-toggleable__control:checked~label.sk-toggleable__label {background-color: #d4ebff;}#sk-container-id-1 div.sk-label input.sk-toggleable__control:checked~label.sk-toggleable__label {background-color: #d4ebff;}#sk-container-id-1 input.sk-hidden--visually {border: 0;clip: rect(1px 1px 1px 1px);clip: rect(1px, 1px, 1px, 1px);height: 1px;margin: -1px;overflow: hidden;padding: 0;position: absolute;width: 1px;}#sk-container-id-1 div.sk-estimator {font-family: monospace;background-color: #f0f8ff;border: 1px dotted black;border-radius: 0.25em;box-sizing: border-box;margin-bottom: 0.5em;}#sk-container-id-1 div.sk-estimator:hover {background-color: #d4ebff;}#sk-container-id-1 div.sk-parallel-item::after {content: \"\";width: 100%;border-bottom: 1px solid gray;flex-grow: 1;}#sk-container-id-1 div.sk-label:hover label.sk-toggleable__label {background-color: #d4ebff;}#sk-container-id-1 div.sk-serial::before {content: \"\";position: absolute;border-left: 1px solid gray;box-sizing: border-box;top: 0;bottom: 0;left: 50%;z-index: 0;}#sk-container-id-1 div.sk-serial {display: flex;flex-direction: column;align-items: center;background-color: white;padding-right: 0.2em;padding-left: 0.2em;position: relative;}#sk-container-id-1 div.sk-item {position: relative;z-index: 1;}#sk-container-id-1 div.sk-parallel {display: flex;align-items: stretch;justify-content: center;background-color: white;position: relative;}#sk-container-id-1 div.sk-item::before, #sk-container-id-1 div.sk-parallel-item::before {content: \"\";position: absolute;border-left: 1px solid gray;box-sizing: border-box;top: 0;bottom: 0;left: 50%;z-index: -1;}#sk-container-id-1 div.sk-parallel-item {display: flex;flex-direction: column;z-index: 1;position: relative;background-color: white;}#sk-container-id-1 div.sk-parallel-item:first-child::after {align-self: flex-end;width: 50%;}#sk-container-id-1 div.sk-parallel-item:last-child::after {align-self: flex-start;width: 50%;}#sk-container-id-1 div.sk-parallel-item:only-child::after {width: 0;}#sk-container-id-1 div.sk-dashed-wrapped {border: 1px dashed gray;margin: 0 0.4em 0.5em 0.4em;box-sizing: border-box;padding-bottom: 0.4em;background-color: white;}#sk-container-id-1 div.sk-label label {font-family: monospace;font-weight: bold;display: inline-block;line-height: 1.2em;}#sk-container-id-1 div.sk-label-container {text-align: center;}#sk-container-id-1 div.sk-container {/* jupyter's `normalize.less` sets `[hidden] { display: none; }` but bootstrap.min.css set `[hidden] { display: none !important; }` so we also need the `!important` here to be able to override the default hidden behavior on the sphinx rendered scikit-learn.org. See: https://github.com/scikit-learn/scikit-learn/issues/21755 */display: inline-block !important;position: relative;}#sk-container-id-1 div.sk-text-repr-fallback {display: none;}</style><div id=\"sk-container-id-1\" class=\"sk-top-container\"><div class=\"sk-text-repr-fallback\"><pre>Pipeline(steps=[(&#x27;fillnan&#x27;, SimpleImputer(fill_value=0.0, strategy=&#x27;constant&#x27;)),\n",
       "                (&#x27;downSample&#x27;, RandomUnderSampler()),\n",
       "                (&#x27;scaler&#x27;, MinMaxScaler()),\n",
       "                (&#x27;model&#x27;, GradientBoostingClassifier())])</pre><b>In a Jupyter environment, please rerun this cell to show the HTML representation or trust the notebook. <br />On GitHub, the HTML representation is unable to render, please try loading this page with nbviewer.org.</b></div><div class=\"sk-container\" hidden><div class=\"sk-item sk-dashed-wrapped\"><div class=\"sk-label-container\"><div class=\"sk-label sk-toggleable\"><input class=\"sk-toggleable__control sk-hidden--visually\" id=\"sk-estimator-id-1\" type=\"checkbox\" ><label for=\"sk-estimator-id-1\" class=\"sk-toggleable__label sk-toggleable__label-arrow\">Pipeline</label><div class=\"sk-toggleable__content\"><pre>Pipeline(steps=[(&#x27;fillnan&#x27;, SimpleImputer(fill_value=0.0, strategy=&#x27;constant&#x27;)),\n",
       "                (&#x27;downSample&#x27;, RandomUnderSampler()),\n",
       "                (&#x27;scaler&#x27;, MinMaxScaler()),\n",
       "                (&#x27;model&#x27;, GradientBoostingClassifier())])</pre></div></div></div><div class=\"sk-serial\"><div class=\"sk-item\"><div class=\"sk-estimator sk-toggleable\"><input class=\"sk-toggleable__control sk-hidden--visually\" id=\"sk-estimator-id-2\" type=\"checkbox\" ><label for=\"sk-estimator-id-2\" class=\"sk-toggleable__label sk-toggleable__label-arrow\">SimpleImputer</label><div class=\"sk-toggleable__content\"><pre>SimpleImputer(fill_value=0.0, strategy=&#x27;constant&#x27;)</pre></div></div></div><div class=\"sk-item\"><div class=\"sk-estimator sk-toggleable\"><input class=\"sk-toggleable__control sk-hidden--visually\" id=\"sk-estimator-id-3\" type=\"checkbox\" ><label for=\"sk-estimator-id-3\" class=\"sk-toggleable__label sk-toggleable__label-arrow\">RandomUnderSampler</label><div class=\"sk-toggleable__content\"><pre>RandomUnderSampler()</pre></div></div></div><div class=\"sk-item\"><div class=\"sk-estimator sk-toggleable\"><input class=\"sk-toggleable__control sk-hidden--visually\" id=\"sk-estimator-id-4\" type=\"checkbox\" ><label for=\"sk-estimator-id-4\" class=\"sk-toggleable__label sk-toggleable__label-arrow\">MinMaxScaler</label><div class=\"sk-toggleable__content\"><pre>MinMaxScaler()</pre></div></div></div><div class=\"sk-item\"><div class=\"sk-estimator sk-toggleable\"><input class=\"sk-toggleable__control sk-hidden--visually\" id=\"sk-estimator-id-5\" type=\"checkbox\" ><label for=\"sk-estimator-id-5\" class=\"sk-toggleable__label sk-toggleable__label-arrow\">GradientBoostingClassifier</label><div class=\"sk-toggleable__content\"><pre>GradientBoostingClassifier()</pre></div></div></div></div></div></div></div>"
      ],
      "text/plain": [
       "Pipeline(steps=[('fillnan', SimpleImputer(fill_value=0.0, strategy='constant')),\n",
       "                ('downSample', RandomUnderSampler()),\n",
       "                ('scaler', MinMaxScaler()),\n",
       "                ('model', GradientBoostingClassifier())])"
      ]
     },
     "execution_count": 32,
     "metadata": {},
     "output_type": "execute_result"
    }
   ],
   "source": [
    "pipeline = build_ml_pipeline(GradientBoostingClassifier()) \n",
    "pipeline.fit(train_validation_data_x, train_validation_data_y)"
   ]
  },
  {
   "cell_type": "code",
   "execution_count": 33,
   "metadata": {
    "id": "UI0CAkrlse5f"
   },
   "outputs": [],
   "source": [
    "importances = pipeline.steps[3][1].feature_importances_\n",
    "feature_names=train_validation_data_x.columns.tolist()"
   ]
  },
  {
   "cell_type": "code",
   "execution_count": 34,
   "metadata": {
    "id": "-bLQMeY7tnWF"
   },
   "outputs": [],
   "source": [
    "df_importances = pd.DataFrame(\n",
    "    {\"feature\":feature_names, \"importance\":importances}).sort_values(\"importance\", ascending=False)\n",
    "top15_features = df_importances.head(15)    "
   ]
  },
  {
   "cell_type": "code",
   "execution_count": 35,
   "metadata": {
    "id": "2joVufsauGEC"
   },
   "outputs": [],
   "source": [
    "# Only use the selected top 15 features in our training data.\n",
    "train_validation_data_x_select_features = train_validation_data_x[top15_features['feature']]"
   ]
  },
  {
   "cell_type": "code",
   "execution_count": 36,
   "metadata": {
    "colab": {
     "base_uri": "https://localhost:8080/",
     "height": 519
    },
    "id": "ALhHyb8ttT-5",
    "outputId": "3248a576-e5ae-4045-b545-bbbba05109df"
   },
   "outputs": [
    {
     "data": {
      "text/html": [
       "<div>\n",
       "<style scoped>\n",
       "    .dataframe tbody tr th:only-of-type {\n",
       "        vertical-align: middle;\n",
       "    }\n",
       "\n",
       "    .dataframe tbody tr th {\n",
       "        vertical-align: top;\n",
       "    }\n",
       "\n",
       "    .dataframe thead th {\n",
       "        text-align: right;\n",
       "    }\n",
       "</style>\n",
       "<table border=\"1\" class=\"dataframe\">\n",
       "  <thead>\n",
       "    <tr style=\"text-align: right;\">\n",
       "      <th></th>\n",
       "      <th>feature</th>\n",
       "      <th>importance</th>\n",
       "    </tr>\n",
       "  </thead>\n",
       "  <tbody>\n",
       "    <tr>\n",
       "      <th>4</th>\n",
       "      <td>user_product__total_orders</td>\n",
       "      <td>0.355791</td>\n",
       "    </tr>\n",
       "    <tr>\n",
       "      <th>16</th>\n",
       "      <td>user__order_count</td>\n",
       "      <td>0.292292</td>\n",
       "    </tr>\n",
       "    <tr>\n",
       "      <th>6</th>\n",
       "      <td>user_product__reordered_mean</td>\n",
       "      <td>0.161684</td>\n",
       "    </tr>\n",
       "    <tr>\n",
       "      <th>0</th>\n",
       "      <td>order_number</td>\n",
       "      <td>0.075455</td>\n",
       "    </tr>\n",
       "    <tr>\n",
       "      <th>12</th>\n",
       "      <td>product__reordered_mean</td>\n",
       "      <td>0.067649</td>\n",
       "    </tr>\n",
       "    <tr>\n",
       "      <th>19</th>\n",
       "      <td>user__reordered_mean</td>\n",
       "      <td>0.013393</td>\n",
       "    </tr>\n",
       "    <tr>\n",
       "      <th>9</th>\n",
       "      <td>product__total_orders</td>\n",
       "      <td>0.007119</td>\n",
       "    </tr>\n",
       "    <tr>\n",
       "      <th>3</th>\n",
       "      <td>days_since_prior_order</td>\n",
       "      <td>0.006445</td>\n",
       "    </tr>\n",
       "    <tr>\n",
       "      <th>18</th>\n",
       "      <td>user__days_since_prior_order_mean</td>\n",
       "      <td>0.003409</td>\n",
       "    </tr>\n",
       "    <tr>\n",
       "      <th>10</th>\n",
       "      <td>product__add_to_cart_order_mean</td>\n",
       "      <td>0.003181</td>\n",
       "    </tr>\n",
       "    <tr>\n",
       "      <th>17</th>\n",
       "      <td>user__product_count</td>\n",
       "      <td>0.002905</td>\n",
       "    </tr>\n",
       "    <tr>\n",
       "      <th>11</th>\n",
       "      <td>product__total_users</td>\n",
       "      <td>0.002318</td>\n",
       "    </tr>\n",
       "    <tr>\n",
       "      <th>15</th>\n",
       "      <td>product__days_since_prior_order_mean</td>\n",
       "      <td>0.002239</td>\n",
       "    </tr>\n",
       "    <tr>\n",
       "      <th>35</th>\n",
       "      <td>product__department_id__13</td>\n",
       "      <td>0.001759</td>\n",
       "    </tr>\n",
       "    <tr>\n",
       "      <th>5</th>\n",
       "      <td>user_product__add_to_cart_order_mean</td>\n",
       "      <td>0.001326</td>\n",
       "    </tr>\n",
       "  </tbody>\n",
       "</table>\n",
       "</div>"
      ],
      "text/plain": [
       "                                 feature  importance\n",
       "4             user_product__total_orders    0.355791\n",
       "16                     user__order_count    0.292292\n",
       "6           user_product__reordered_mean    0.161684\n",
       "0                           order_number    0.075455\n",
       "12               product__reordered_mean    0.067649\n",
       "19                  user__reordered_mean    0.013393\n",
       "9                  product__total_orders    0.007119\n",
       "3                 days_since_prior_order    0.006445\n",
       "18     user__days_since_prior_order_mean    0.003409\n",
       "10       product__add_to_cart_order_mean    0.003181\n",
       "17                   user__product_count    0.002905\n",
       "11                  product__total_users    0.002318\n",
       "15  product__days_since_prior_order_mean    0.002239\n",
       "35            product__department_id__13    0.001759\n",
       "5   user_product__add_to_cart_order_mean    0.001326"
      ]
     },
     "execution_count": 36,
     "metadata": {},
     "output_type": "execute_result"
    }
   ],
   "source": [
    "top15_features"
   ]
  },
  {
   "cell_type": "markdown",
   "metadata": {
    "id": "6H3jtmIrQLOQ"
   },
   "source": [
    "4.3. Model Selection with Selected Top 15 Features"
   ]
  },
  {
   "cell_type": "code",
   "execution_count": 38,
   "metadata": {
    "colab": {
     "base_uri": "https://localhost:8080/"
    },
    "id": "xpvZE8tRtASN",
    "outputId": "b27e46d9-8d13-4cf8-8705-18dfd17353fa"
   },
   "outputs": [
    {
     "name": "stdout",
     "output_type": "stream",
     "text": [
      "Wall time: 4.71 s\n",
      "LogisticRegression : F1 value is 34.853 (2.369)\n",
      "==============\n",
      "Wall time: 9.15 s\n",
      "DecisionTreeClassifier : F1 value is 24.944 (1.226)\n",
      "==============\n",
      "Wall time: 2min 11s\n",
      "RandomForestClassifier : F1 value is 33.861 (3.091)\n",
      "==============\n",
      "Wall time: 36.6 s\n",
      "AdaBoostClassifier : F1 value is 34.545 (3.501)\n",
      "==============\n",
      "Wall time: 2min 15s\n",
      "GradientBoostingClassifier : F1 value is 35.344 (3.360)\n",
      "==============\n"
     ]
    }
   ],
   "source": [
    "for classifier in classifiers:\n",
    "  pipeline = build_ml_pipeline(classifier)\n",
    "  %time scores = cross_val_score(pipeline, train_validation_data_x_select_features, train_validation_data_y, cv=5, scoring='f1')\n",
    "  print(classifier.__class__.__name__, ': F1 value is %.3f (%.3f)' % (np.mean(scores)*100, np.std(scores)*100))\n",
    "  print('==============')"
   ]
  },
  {
   "cell_type": "markdown",
   "metadata": {
    "id": "4vy3cZ7guiLk"
   },
   "source": [
    "# 6. Hyper-parameter tuning for GradientBoostingClassifier"
   ]
  },
  {
   "cell_type": "markdown",
   "metadata": {
    "id": "4UFYGTxOGEST"
   },
   "source": [
    "Here we use 5% of the data to do hyper-paremter tuning."
   ]
  },
  {
   "cell_type": "code",
   "execution_count": 40,
   "metadata": {
    "id": "ucQ1x7GnGHcm"
   },
   "outputs": [],
   "source": [
    "sample_user_ids = train_validation_data.user_id.drop_duplicates().sample(frac=0.05)\n",
    "train_validation_data_sample = train_validation_data[train_validation_data.user_id.isin(sample_user_ids)]"
   ]
  },
  {
   "cell_type": "code",
   "execution_count": 41,
   "metadata": {
    "id": "hwh6srjHwRDo"
   },
   "outputs": [],
   "source": [
    "train_validation_data_sample_x = train_validation_data_sample.drop(['user_id', 'product_id', 'label'],axis=1)[top15_features['feature']]\n",
    "train_validation_data_sample_y = train_validation_data_sample['label']"
   ]
  },
  {
   "cell_type": "code",
   "execution_count": 42,
   "metadata": {
    "id": "bG3wXppgmJDC"
   },
   "outputs": [],
   "source": [
    "param_grid = {\n",
    "    'model__n_estimators': [100,150],\n",
    "    'model__max_depth': [4,6],\n",
    "    'model__min_samples_split': [2,4,6],\n",
    "    'model__learning_rate': [0.005, 0.01],\n",
    "}"
   ]
  },
  {
   "cell_type": "code",
   "execution_count": 43,
   "metadata": {
    "colab": {
     "base_uri": "https://localhost:8080/"
    },
    "id": "arLrEAdMmJTI",
    "outputId": "671527e6-2409-4ae5-d18a-fd1889e373e7"
   },
   "outputs": [
    {
     "data": {
      "text/html": [
       "<style>#sk-container-id-2 {color: black;background-color: white;}#sk-container-id-2 pre{padding: 0;}#sk-container-id-2 div.sk-toggleable {background-color: white;}#sk-container-id-2 label.sk-toggleable__label {cursor: pointer;display: block;width: 100%;margin-bottom: 0;padding: 0.3em;box-sizing: border-box;text-align: center;}#sk-container-id-2 label.sk-toggleable__label-arrow:before {content: \"▸\";float: left;margin-right: 0.25em;color: #696969;}#sk-container-id-2 label.sk-toggleable__label-arrow:hover:before {color: black;}#sk-container-id-2 div.sk-estimator:hover label.sk-toggleable__label-arrow:before {color: black;}#sk-container-id-2 div.sk-toggleable__content {max-height: 0;max-width: 0;overflow: hidden;text-align: left;background-color: #f0f8ff;}#sk-container-id-2 div.sk-toggleable__content pre {margin: 0.2em;color: black;border-radius: 0.25em;background-color: #f0f8ff;}#sk-container-id-2 input.sk-toggleable__control:checked~div.sk-toggleable__content {max-height: 200px;max-width: 100%;overflow: auto;}#sk-container-id-2 input.sk-toggleable__control:checked~label.sk-toggleable__label-arrow:before {content: \"▾\";}#sk-container-id-2 div.sk-estimator input.sk-toggleable__control:checked~label.sk-toggleable__label {background-color: #d4ebff;}#sk-container-id-2 div.sk-label input.sk-toggleable__control:checked~label.sk-toggleable__label {background-color: #d4ebff;}#sk-container-id-2 input.sk-hidden--visually {border: 0;clip: rect(1px 1px 1px 1px);clip: rect(1px, 1px, 1px, 1px);height: 1px;margin: -1px;overflow: hidden;padding: 0;position: absolute;width: 1px;}#sk-container-id-2 div.sk-estimator {font-family: monospace;background-color: #f0f8ff;border: 1px dotted black;border-radius: 0.25em;box-sizing: border-box;margin-bottom: 0.5em;}#sk-container-id-2 div.sk-estimator:hover {background-color: #d4ebff;}#sk-container-id-2 div.sk-parallel-item::after {content: \"\";width: 100%;border-bottom: 1px solid gray;flex-grow: 1;}#sk-container-id-2 div.sk-label:hover label.sk-toggleable__label {background-color: #d4ebff;}#sk-container-id-2 div.sk-serial::before {content: \"\";position: absolute;border-left: 1px solid gray;box-sizing: border-box;top: 0;bottom: 0;left: 50%;z-index: 0;}#sk-container-id-2 div.sk-serial {display: flex;flex-direction: column;align-items: center;background-color: white;padding-right: 0.2em;padding-left: 0.2em;position: relative;}#sk-container-id-2 div.sk-item {position: relative;z-index: 1;}#sk-container-id-2 div.sk-parallel {display: flex;align-items: stretch;justify-content: center;background-color: white;position: relative;}#sk-container-id-2 div.sk-item::before, #sk-container-id-2 div.sk-parallel-item::before {content: \"\";position: absolute;border-left: 1px solid gray;box-sizing: border-box;top: 0;bottom: 0;left: 50%;z-index: -1;}#sk-container-id-2 div.sk-parallel-item {display: flex;flex-direction: column;z-index: 1;position: relative;background-color: white;}#sk-container-id-2 div.sk-parallel-item:first-child::after {align-self: flex-end;width: 50%;}#sk-container-id-2 div.sk-parallel-item:last-child::after {align-self: flex-start;width: 50%;}#sk-container-id-2 div.sk-parallel-item:only-child::after {width: 0;}#sk-container-id-2 div.sk-dashed-wrapped {border: 1px dashed gray;margin: 0 0.4em 0.5em 0.4em;box-sizing: border-box;padding-bottom: 0.4em;background-color: white;}#sk-container-id-2 div.sk-label label {font-family: monospace;font-weight: bold;display: inline-block;line-height: 1.2em;}#sk-container-id-2 div.sk-label-container {text-align: center;}#sk-container-id-2 div.sk-container {/* jupyter's `normalize.less` sets `[hidden] { display: none; }` but bootstrap.min.css set `[hidden] { display: none !important; }` so we also need the `!important` here to be able to override the default hidden behavior on the sphinx rendered scikit-learn.org. See: https://github.com/scikit-learn/scikit-learn/issues/21755 */display: inline-block !important;position: relative;}#sk-container-id-2 div.sk-text-repr-fallback {display: none;}</style><div id=\"sk-container-id-2\" class=\"sk-top-container\"><div class=\"sk-text-repr-fallback\"><pre>GridSearchCV(cv=5,\n",
       "             estimator=Pipeline(steps=[(&#x27;fillnan&#x27;,\n",
       "                                        SimpleImputer(fill_value=0.0,\n",
       "                                                      strategy=&#x27;constant&#x27;)),\n",
       "                                       (&#x27;downSample&#x27;, RandomUnderSampler()),\n",
       "                                       (&#x27;scaler&#x27;, MinMaxScaler()),\n",
       "                                       (&#x27;model&#x27;,\n",
       "                                        GradientBoostingClassifier())]),\n",
       "             param_grid={&#x27;model__learning_rate&#x27;: [0.005, 0.01],\n",
       "                         &#x27;model__max_depth&#x27;: [4, 6],\n",
       "                         &#x27;model__min_samples_split&#x27;: [2, 4, 6],\n",
       "                         &#x27;model__n_estimators&#x27;: [100, 150]},\n",
       "             scoring=&#x27;f1&#x27;)</pre><b>In a Jupyter environment, please rerun this cell to show the HTML representation or trust the notebook. <br />On GitHub, the HTML representation is unable to render, please try loading this page with nbviewer.org.</b></div><div class=\"sk-container\" hidden><div class=\"sk-item sk-dashed-wrapped\"><div class=\"sk-label-container\"><div class=\"sk-label sk-toggleable\"><input class=\"sk-toggleable__control sk-hidden--visually\" id=\"sk-estimator-id-6\" type=\"checkbox\" ><label for=\"sk-estimator-id-6\" class=\"sk-toggleable__label sk-toggleable__label-arrow\">GridSearchCV</label><div class=\"sk-toggleable__content\"><pre>GridSearchCV(cv=5,\n",
       "             estimator=Pipeline(steps=[(&#x27;fillnan&#x27;,\n",
       "                                        SimpleImputer(fill_value=0.0,\n",
       "                                                      strategy=&#x27;constant&#x27;)),\n",
       "                                       (&#x27;downSample&#x27;, RandomUnderSampler()),\n",
       "                                       (&#x27;scaler&#x27;, MinMaxScaler()),\n",
       "                                       (&#x27;model&#x27;,\n",
       "                                        GradientBoostingClassifier())]),\n",
       "             param_grid={&#x27;model__learning_rate&#x27;: [0.005, 0.01],\n",
       "                         &#x27;model__max_depth&#x27;: [4, 6],\n",
       "                         &#x27;model__min_samples_split&#x27;: [2, 4, 6],\n",
       "                         &#x27;model__n_estimators&#x27;: [100, 150]},\n",
       "             scoring=&#x27;f1&#x27;)</pre></div></div></div><div class=\"sk-parallel\"><div class=\"sk-parallel-item\"><div class=\"sk-item\"><div class=\"sk-label-container\"><div class=\"sk-label sk-toggleable\"><input class=\"sk-toggleable__control sk-hidden--visually\" id=\"sk-estimator-id-7\" type=\"checkbox\" ><label for=\"sk-estimator-id-7\" class=\"sk-toggleable__label sk-toggleable__label-arrow\">estimator: Pipeline</label><div class=\"sk-toggleable__content\"><pre>Pipeline(steps=[(&#x27;fillnan&#x27;, SimpleImputer(fill_value=0.0, strategy=&#x27;constant&#x27;)),\n",
       "                (&#x27;downSample&#x27;, RandomUnderSampler()),\n",
       "                (&#x27;scaler&#x27;, MinMaxScaler()),\n",
       "                (&#x27;model&#x27;, GradientBoostingClassifier())])</pre></div></div></div><div class=\"sk-serial\"><div class=\"sk-item\"><div class=\"sk-serial\"><div class=\"sk-item\"><div class=\"sk-estimator sk-toggleable\"><input class=\"sk-toggleable__control sk-hidden--visually\" id=\"sk-estimator-id-8\" type=\"checkbox\" ><label for=\"sk-estimator-id-8\" class=\"sk-toggleable__label sk-toggleable__label-arrow\">SimpleImputer</label><div class=\"sk-toggleable__content\"><pre>SimpleImputer(fill_value=0.0, strategy=&#x27;constant&#x27;)</pre></div></div></div><div class=\"sk-item\"><div class=\"sk-estimator sk-toggleable\"><input class=\"sk-toggleable__control sk-hidden--visually\" id=\"sk-estimator-id-9\" type=\"checkbox\" ><label for=\"sk-estimator-id-9\" class=\"sk-toggleable__label sk-toggleable__label-arrow\">RandomUnderSampler</label><div class=\"sk-toggleable__content\"><pre>RandomUnderSampler()</pre></div></div></div><div class=\"sk-item\"><div class=\"sk-estimator sk-toggleable\"><input class=\"sk-toggleable__control sk-hidden--visually\" id=\"sk-estimator-id-10\" type=\"checkbox\" ><label for=\"sk-estimator-id-10\" class=\"sk-toggleable__label sk-toggleable__label-arrow\">MinMaxScaler</label><div class=\"sk-toggleable__content\"><pre>MinMaxScaler()</pre></div></div></div><div class=\"sk-item\"><div class=\"sk-estimator sk-toggleable\"><input class=\"sk-toggleable__control sk-hidden--visually\" id=\"sk-estimator-id-11\" type=\"checkbox\" ><label for=\"sk-estimator-id-11\" class=\"sk-toggleable__label sk-toggleable__label-arrow\">GradientBoostingClassifier</label><div class=\"sk-toggleable__content\"><pre>GradientBoostingClassifier()</pre></div></div></div></div></div></div></div></div></div></div></div></div>"
      ],
      "text/plain": [
       "GridSearchCV(cv=5,\n",
       "             estimator=Pipeline(steps=[('fillnan',\n",
       "                                        SimpleImputer(fill_value=0.0,\n",
       "                                                      strategy='constant')),\n",
       "                                       ('downSample', RandomUnderSampler()),\n",
       "                                       ('scaler', MinMaxScaler()),\n",
       "                                       ('model',\n",
       "                                        GradientBoostingClassifier())]),\n",
       "             param_grid={'model__learning_rate': [0.005, 0.01],\n",
       "                         'model__max_depth': [4, 6],\n",
       "                         'model__min_samples_split': [2, 4, 6],\n",
       "                         'model__n_estimators': [100, 150]},\n",
       "             scoring='f1')"
      ]
     },
     "execution_count": 43,
     "metadata": {},
     "output_type": "execute_result"
    }
   ],
   "source": [
    "grid = GridSearchCV(build_ml_pipeline(GradientBoostingClassifier()), cv=5, param_grid=param_grid, scoring='f1')\n",
    "grid.fit(train_validation_data_sample_x, train_validation_data_sample_y)"
   ]
  },
  {
   "cell_type": "code",
   "execution_count": 44,
   "metadata": {
    "colab": {
     "base_uri": "https://localhost:8080/"
    },
    "id": "numnXp_OmMmj",
    "outputId": "a3c7707c-de52-4460-db9e-4f2623b1fd27"
   },
   "outputs": [
    {
     "name": "stdout",
     "output_type": "stream",
     "text": [
      "Best F1 value is 0.321\n",
      "Params are {'model__learning_rate': 0.005, 'model__max_depth': 4, 'model__min_samples_split': 6, 'model__n_estimators': 150}\n"
     ]
    }
   ],
   "source": [
    "print(\"Best F1 value is %.3f\" % grid.best_score_)\n",
    "print(\"Params are %s\" % grid.best_params_)"
   ]
  },
  {
   "cell_type": "markdown",
   "metadata": {
    "id": "Nqn05xvAywxj"
   },
   "source": [
    "# 7. Train the final GradientBoostingClassifier "
   ]
  },
  {
   "cell_type": "markdown",
   "metadata": {
    "id": "8v8ocP33HOa-"
   },
   "source": [
    "7.1. Train the final model with all training+validation data and the best hyper-parameters."
   ]
  },
  {
   "cell_type": "code",
   "execution_count": 45,
   "metadata": {
    "colab": {
     "base_uri": "https://localhost:8080/"
    },
    "id": "f8ZBUZTPtAPD",
    "outputId": "05cf3748-af5b-4be0-d9ae-6c858f3206e0"
   },
   "outputs": [
    {
     "data": {
      "text/html": [
       "<style>#sk-container-id-3 {color: black;background-color: white;}#sk-container-id-3 pre{padding: 0;}#sk-container-id-3 div.sk-toggleable {background-color: white;}#sk-container-id-3 label.sk-toggleable__label {cursor: pointer;display: block;width: 100%;margin-bottom: 0;padding: 0.3em;box-sizing: border-box;text-align: center;}#sk-container-id-3 label.sk-toggleable__label-arrow:before {content: \"▸\";float: left;margin-right: 0.25em;color: #696969;}#sk-container-id-3 label.sk-toggleable__label-arrow:hover:before {color: black;}#sk-container-id-3 div.sk-estimator:hover label.sk-toggleable__label-arrow:before {color: black;}#sk-container-id-3 div.sk-toggleable__content {max-height: 0;max-width: 0;overflow: hidden;text-align: left;background-color: #f0f8ff;}#sk-container-id-3 div.sk-toggleable__content pre {margin: 0.2em;color: black;border-radius: 0.25em;background-color: #f0f8ff;}#sk-container-id-3 input.sk-toggleable__control:checked~div.sk-toggleable__content {max-height: 200px;max-width: 100%;overflow: auto;}#sk-container-id-3 input.sk-toggleable__control:checked~label.sk-toggleable__label-arrow:before {content: \"▾\";}#sk-container-id-3 div.sk-estimator input.sk-toggleable__control:checked~label.sk-toggleable__label {background-color: #d4ebff;}#sk-container-id-3 div.sk-label input.sk-toggleable__control:checked~label.sk-toggleable__label {background-color: #d4ebff;}#sk-container-id-3 input.sk-hidden--visually {border: 0;clip: rect(1px 1px 1px 1px);clip: rect(1px, 1px, 1px, 1px);height: 1px;margin: -1px;overflow: hidden;padding: 0;position: absolute;width: 1px;}#sk-container-id-3 div.sk-estimator {font-family: monospace;background-color: #f0f8ff;border: 1px dotted black;border-radius: 0.25em;box-sizing: border-box;margin-bottom: 0.5em;}#sk-container-id-3 div.sk-estimator:hover {background-color: #d4ebff;}#sk-container-id-3 div.sk-parallel-item::after {content: \"\";width: 100%;border-bottom: 1px solid gray;flex-grow: 1;}#sk-container-id-3 div.sk-label:hover label.sk-toggleable__label {background-color: #d4ebff;}#sk-container-id-3 div.sk-serial::before {content: \"\";position: absolute;border-left: 1px solid gray;box-sizing: border-box;top: 0;bottom: 0;left: 50%;z-index: 0;}#sk-container-id-3 div.sk-serial {display: flex;flex-direction: column;align-items: center;background-color: white;padding-right: 0.2em;padding-left: 0.2em;position: relative;}#sk-container-id-3 div.sk-item {position: relative;z-index: 1;}#sk-container-id-3 div.sk-parallel {display: flex;align-items: stretch;justify-content: center;background-color: white;position: relative;}#sk-container-id-3 div.sk-item::before, #sk-container-id-3 div.sk-parallel-item::before {content: \"\";position: absolute;border-left: 1px solid gray;box-sizing: border-box;top: 0;bottom: 0;left: 50%;z-index: -1;}#sk-container-id-3 div.sk-parallel-item {display: flex;flex-direction: column;z-index: 1;position: relative;background-color: white;}#sk-container-id-3 div.sk-parallel-item:first-child::after {align-self: flex-end;width: 50%;}#sk-container-id-3 div.sk-parallel-item:last-child::after {align-self: flex-start;width: 50%;}#sk-container-id-3 div.sk-parallel-item:only-child::after {width: 0;}#sk-container-id-3 div.sk-dashed-wrapped {border: 1px dashed gray;margin: 0 0.4em 0.5em 0.4em;box-sizing: border-box;padding-bottom: 0.4em;background-color: white;}#sk-container-id-3 div.sk-label label {font-family: monospace;font-weight: bold;display: inline-block;line-height: 1.2em;}#sk-container-id-3 div.sk-label-container {text-align: center;}#sk-container-id-3 div.sk-container {/* jupyter's `normalize.less` sets `[hidden] { display: none; }` but bootstrap.min.css set `[hidden] { display: none !important; }` so we also need the `!important` here to be able to override the default hidden behavior on the sphinx rendered scikit-learn.org. See: https://github.com/scikit-learn/scikit-learn/issues/21755 */display: inline-block !important;position: relative;}#sk-container-id-3 div.sk-text-repr-fallback {display: none;}</style><div id=\"sk-container-id-3\" class=\"sk-top-container\"><div class=\"sk-text-repr-fallback\"><pre>Pipeline(steps=[(&#x27;fillnan&#x27;, SimpleImputer(fill_value=0.0, strategy=&#x27;constant&#x27;)),\n",
       "                (&#x27;downSample&#x27;, RandomUnderSampler()),\n",
       "                (&#x27;scaler&#x27;, MinMaxScaler()),\n",
       "                (&#x27;model&#x27;,\n",
       "                 GradientBoostingClassifier(learning_rate=0.005, max_depth=4))])</pre><b>In a Jupyter environment, please rerun this cell to show the HTML representation or trust the notebook. <br />On GitHub, the HTML representation is unable to render, please try loading this page with nbviewer.org.</b></div><div class=\"sk-container\" hidden><div class=\"sk-item sk-dashed-wrapped\"><div class=\"sk-label-container\"><div class=\"sk-label sk-toggleable\"><input class=\"sk-toggleable__control sk-hidden--visually\" id=\"sk-estimator-id-12\" type=\"checkbox\" ><label for=\"sk-estimator-id-12\" class=\"sk-toggleable__label sk-toggleable__label-arrow\">Pipeline</label><div class=\"sk-toggleable__content\"><pre>Pipeline(steps=[(&#x27;fillnan&#x27;, SimpleImputer(fill_value=0.0, strategy=&#x27;constant&#x27;)),\n",
       "                (&#x27;downSample&#x27;, RandomUnderSampler()),\n",
       "                (&#x27;scaler&#x27;, MinMaxScaler()),\n",
       "                (&#x27;model&#x27;,\n",
       "                 GradientBoostingClassifier(learning_rate=0.005, max_depth=4))])</pre></div></div></div><div class=\"sk-serial\"><div class=\"sk-item\"><div class=\"sk-estimator sk-toggleable\"><input class=\"sk-toggleable__control sk-hidden--visually\" id=\"sk-estimator-id-13\" type=\"checkbox\" ><label for=\"sk-estimator-id-13\" class=\"sk-toggleable__label sk-toggleable__label-arrow\">SimpleImputer</label><div class=\"sk-toggleable__content\"><pre>SimpleImputer(fill_value=0.0, strategy=&#x27;constant&#x27;)</pre></div></div></div><div class=\"sk-item\"><div class=\"sk-estimator sk-toggleable\"><input class=\"sk-toggleable__control sk-hidden--visually\" id=\"sk-estimator-id-14\" type=\"checkbox\" ><label for=\"sk-estimator-id-14\" class=\"sk-toggleable__label sk-toggleable__label-arrow\">RandomUnderSampler</label><div class=\"sk-toggleable__content\"><pre>RandomUnderSampler()</pre></div></div></div><div class=\"sk-item\"><div class=\"sk-estimator sk-toggleable\"><input class=\"sk-toggleable__control sk-hidden--visually\" id=\"sk-estimator-id-15\" type=\"checkbox\" ><label for=\"sk-estimator-id-15\" class=\"sk-toggleable__label sk-toggleable__label-arrow\">MinMaxScaler</label><div class=\"sk-toggleable__content\"><pre>MinMaxScaler()</pre></div></div></div><div class=\"sk-item\"><div class=\"sk-estimator sk-toggleable\"><input class=\"sk-toggleable__control sk-hidden--visually\" id=\"sk-estimator-id-16\" type=\"checkbox\" ><label for=\"sk-estimator-id-16\" class=\"sk-toggleable__label sk-toggleable__label-arrow\">GradientBoostingClassifier</label><div class=\"sk-toggleable__content\"><pre>GradientBoostingClassifier(learning_rate=0.005, max_depth=4)</pre></div></div></div></div></div></div></div>"
      ],
      "text/plain": [
       "Pipeline(steps=[('fillnan', SimpleImputer(fill_value=0.0, strategy='constant')),\n",
       "                ('downSample', RandomUnderSampler()),\n",
       "                ('scaler', MinMaxScaler()),\n",
       "                ('model',\n",
       "                 GradientBoostingClassifier(learning_rate=0.005, max_depth=4))])"
      ]
     },
     "execution_count": 45,
     "metadata": {},
     "output_type": "execute_result"
    }
   ],
   "source": [
    "pipeline = build_ml_pipeline(GradientBoostingClassifier(\n",
    "    n_estimators=100,\n",
    "    min_samples_split=2,\n",
    "    max_depth=4,\n",
    "    learning_rate=0.005,\n",
    "))\n",
    "\n",
    "pipeline.fit(train_validation_data_x_select_features, train_validation_data_y)"
   ]
  },
  {
   "cell_type": "code",
   "execution_count": 46,
   "metadata": {
    "colab": {
     "base_uri": "https://localhost:8080/",
     "height": 519
    },
    "id": "xjxglMXyrrmH",
    "outputId": "5e1a5aa7-842a-4745-ce19-c092a018a718"
   },
   "outputs": [
    {
     "data": {
      "text/html": [
       "<div>\n",
       "<style scoped>\n",
       "    .dataframe tbody tr th:only-of-type {\n",
       "        vertical-align: middle;\n",
       "    }\n",
       "\n",
       "    .dataframe tbody tr th {\n",
       "        vertical-align: top;\n",
       "    }\n",
       "\n",
       "    .dataframe thead th {\n",
       "        text-align: right;\n",
       "    }\n",
       "</style>\n",
       "<table border=\"1\" class=\"dataframe\">\n",
       "  <thead>\n",
       "    <tr style=\"text-align: right;\">\n",
       "      <th></th>\n",
       "      <th>feature</th>\n",
       "      <th>importance</th>\n",
       "    </tr>\n",
       "  </thead>\n",
       "  <tbody>\n",
       "    <tr>\n",
       "      <th>0</th>\n",
       "      <td>user_product__total_orders</td>\n",
       "      <td>0.322081</td>\n",
       "    </tr>\n",
       "    <tr>\n",
       "      <th>1</th>\n",
       "      <td>user__order_count</td>\n",
       "      <td>0.317918</td>\n",
       "    </tr>\n",
       "    <tr>\n",
       "      <th>2</th>\n",
       "      <td>user_product__reordered_mean</td>\n",
       "      <td>0.299668</td>\n",
       "    </tr>\n",
       "    <tr>\n",
       "      <th>3</th>\n",
       "      <td>order_number</td>\n",
       "      <td>0.033873</td>\n",
       "    </tr>\n",
       "    <tr>\n",
       "      <th>4</th>\n",
       "      <td>product__reordered_mean</td>\n",
       "      <td>0.024817</td>\n",
       "    </tr>\n",
       "    <tr>\n",
       "      <th>8</th>\n",
       "      <td>user__days_since_prior_order_mean</td>\n",
       "      <td>0.000825</td>\n",
       "    </tr>\n",
       "    <tr>\n",
       "      <th>6</th>\n",
       "      <td>product__total_orders</td>\n",
       "      <td>0.000413</td>\n",
       "    </tr>\n",
       "    <tr>\n",
       "      <th>13</th>\n",
       "      <td>product__department_id__13</td>\n",
       "      <td>0.000348</td>\n",
       "    </tr>\n",
       "    <tr>\n",
       "      <th>14</th>\n",
       "      <td>user_product__add_to_cart_order_mean</td>\n",
       "      <td>0.000058</td>\n",
       "    </tr>\n",
       "    <tr>\n",
       "      <th>5</th>\n",
       "      <td>user__reordered_mean</td>\n",
       "      <td>0.000000</td>\n",
       "    </tr>\n",
       "    <tr>\n",
       "      <th>7</th>\n",
       "      <td>days_since_prior_order</td>\n",
       "      <td>0.000000</td>\n",
       "    </tr>\n",
       "    <tr>\n",
       "      <th>9</th>\n",
       "      <td>product__add_to_cart_order_mean</td>\n",
       "      <td>0.000000</td>\n",
       "    </tr>\n",
       "    <tr>\n",
       "      <th>10</th>\n",
       "      <td>user__product_count</td>\n",
       "      <td>0.000000</td>\n",
       "    </tr>\n",
       "    <tr>\n",
       "      <th>11</th>\n",
       "      <td>product__total_users</td>\n",
       "      <td>0.000000</td>\n",
       "    </tr>\n",
       "    <tr>\n",
       "      <th>12</th>\n",
       "      <td>product__days_since_prior_order_mean</td>\n",
       "      <td>0.000000</td>\n",
       "    </tr>\n",
       "  </tbody>\n",
       "</table>\n",
       "</div>"
      ],
      "text/plain": [
       "                                 feature  importance\n",
       "0             user_product__total_orders    0.322081\n",
       "1                      user__order_count    0.317918\n",
       "2           user_product__reordered_mean    0.299668\n",
       "3                           order_number    0.033873\n",
       "4                product__reordered_mean    0.024817\n",
       "8      user__days_since_prior_order_mean    0.000825\n",
       "6                  product__total_orders    0.000413\n",
       "13            product__department_id__13    0.000348\n",
       "14  user_product__add_to_cart_order_mean    0.000058\n",
       "5                   user__reordered_mean    0.000000\n",
       "7                 days_since_prior_order    0.000000\n",
       "9        product__add_to_cart_order_mean    0.000000\n",
       "10                   user__product_count    0.000000\n",
       "11                  product__total_users    0.000000\n",
       "12  product__days_since_prior_order_mean    0.000000"
      ]
     },
     "execution_count": 46,
     "metadata": {},
     "output_type": "execute_result"
    }
   ],
   "source": [
    "importances = pipeline.steps[3][1].feature_importances_\n",
    "feature_names=train_validation_data_x_select_features.columns.tolist()\n",
    "df_importances = pd.DataFrame(\n",
    "    {\"feature\":feature_names, \"importance\":importances}).sort_values(\"importance\", ascending=False)\n",
    "df_importances.head(15)"
   ]
  },
  {
   "cell_type": "markdown",
   "metadata": {
    "id": "mw9sVzvD05tW"
   },
   "source": [
    "# 8. Evaluate model on Test Data "
   ]
  },
  {
   "cell_type": "markdown",
   "metadata": {
    "id": "r4jPG0FjH_n6"
   },
   "source": [
    "8.1. Predict product reorder on Test Data"
   ]
  },
  {
   "cell_type": "code",
   "execution_count": 47,
   "metadata": {
    "id": "zpbLdh5B1cVi"
   },
   "outputs": [],
   "source": [
    "test_data_x_selected_features = test_data.drop(['user_id', 'product_id', 'label'],axis=1)[top15_features['feature']]\n",
    "test_data_y = test_data['label']"
   ]
  },
  {
   "cell_type": "code",
   "execution_count": 48,
   "metadata": {
    "id": "rizYT4wLrrj9"
   },
   "outputs": [],
   "source": [
    "predict_y = pipeline.predict(test_data_x_selected_features)"
   ]
  },
  {
   "cell_type": "code",
   "execution_count": 49,
   "metadata": {
    "id": "nKmMW2FO6uA2"
   },
   "outputs": [],
   "source": [
    "df_output = pd.DataFrame(\n",
    "    {\"user_id\":test_data.user_id, \"product_id\":test_data.product_id, \"predict\":predict_y, \"label\":test_data.label})   "
   ]
  },
  {
   "cell_type": "code",
   "execution_count": 50,
   "metadata": {
    "colab": {
     "base_uri": "https://localhost:8080/",
     "height": 206
    },
    "id": "CfOrPEA77eMg",
    "outputId": "d44d47c9-a958-49cd-d3b0-8de42b1640d5"
   },
   "outputs": [
    {
     "data": {
      "text/html": [
       "<div>\n",
       "<style scoped>\n",
       "    .dataframe tbody tr th:only-of-type {\n",
       "        vertical-align: middle;\n",
       "    }\n",
       "\n",
       "    .dataframe tbody tr th {\n",
       "        vertical-align: top;\n",
       "    }\n",
       "\n",
       "    .dataframe thead th {\n",
       "        text-align: right;\n",
       "    }\n",
       "</style>\n",
       "<table border=\"1\" class=\"dataframe\">\n",
       "  <thead>\n",
       "    <tr style=\"text-align: right;\">\n",
       "      <th></th>\n",
       "      <th>user_id</th>\n",
       "      <th>product_id</th>\n",
       "      <th>predict</th>\n",
       "      <th>label</th>\n",
       "    </tr>\n",
       "  </thead>\n",
       "  <tbody>\n",
       "    <tr>\n",
       "      <th>255</th>\n",
       "      <td>112604</td>\n",
       "      <td>30597</td>\n",
       "      <td>0</td>\n",
       "      <td>0</td>\n",
       "    </tr>\n",
       "    <tr>\n",
       "      <th>256</th>\n",
       "      <td>112604</td>\n",
       "      <td>46676</td>\n",
       "      <td>0</td>\n",
       "      <td>0</td>\n",
       "    </tr>\n",
       "    <tr>\n",
       "      <th>257</th>\n",
       "      <td>112604</td>\n",
       "      <td>13176</td>\n",
       "      <td>1</td>\n",
       "      <td>0</td>\n",
       "    </tr>\n",
       "    <tr>\n",
       "      <th>258</th>\n",
       "      <td>112604</td>\n",
       "      <td>16797</td>\n",
       "      <td>0</td>\n",
       "      <td>0</td>\n",
       "    </tr>\n",
       "    <tr>\n",
       "      <th>259</th>\n",
       "      <td>112604</td>\n",
       "      <td>7930</td>\n",
       "      <td>0</td>\n",
       "      <td>0</td>\n",
       "    </tr>\n",
       "  </tbody>\n",
       "</table>\n",
       "</div>"
      ],
      "text/plain": [
       "     user_id  product_id  predict  label\n",
       "255   112604       30597        0      0\n",
       "256   112604       46676        0      0\n",
       "257   112604       13176        1      0\n",
       "258   112604       16797        0      0\n",
       "259   112604        7930        0      0"
      ]
     },
     "execution_count": 50,
     "metadata": {},
     "output_type": "execute_result"
    }
   ],
   "source": [
    "df_output.head()"
   ]
  },
  {
   "cell_type": "code",
   "execution_count": 51,
   "metadata": {
    "id": "4L6ljHzwjbvH"
   },
   "outputs": [],
   "source": [
    "predict_y_prob = pipeline.predict_proba(test_data_x_selected_features)[:,1]"
   ]
  },
  {
   "cell_type": "markdown",
   "metadata": {
    "id": "AFk7X0L6IH5M"
   },
   "source": [
    "8.2. Analyze classification result"
   ]
  },
  {
   "cell_type": "code",
   "execution_count": 54,
   "metadata": {
    "id": "NDjIATvirrUk"
   },
   "outputs": [],
   "source": [
    "acc = accuracy_score(test_data_y, predict_y)\n",
    "f1 = f1_score(test_data_y, predict_y)\n",
    "pre = precision_score(test_data_y, predict_y)\n",
    "rec = recall_score(test_data_y, predict_y)\n",
    "auc = roc_auc_score(test_data_y, predict_y_prob) "
   ]
  },
  {
   "cell_type": "code",
   "execution_count": 55,
   "metadata": {
    "colab": {
     "base_uri": "https://localhost:8080/"
    },
    "id": "LxOiEL5d4pFz",
    "outputId": "cd0c588d-9535-4eac-d622-61a238e40929"
   },
   "outputs": [
    {
     "name": "stdout",
     "output_type": "stream",
     "text": [
      "Model evaluation result on test data: \n",
      "F1 Score : 34.1652%\n",
      "ROC AUC : 79.4657%\n",
      "Accuracy : 74.3518%\n",
      "Precision : 22.6583%\n",
      "Recall : 69.4196%\n"
     ]
    }
   ],
   "source": [
    "print(\"Model evaluation result on test data: \")\n",
    "print(\"F1 Score : {:.4%}\".format(f1))\n",
    "print(\"ROC AUC : {:.4%}\".format(auc))\n",
    "print(\"Accuracy : {:.4%}\".format(acc))\n",
    "print(\"Precision : {:.4%}\".format(pre))\n",
    "print(\"Recall : {:.4%}\".format(rec))"
   ]
  }
 ],
 "metadata": {
  "colab": {
   "provenance": []
  },
  "kernelspec": {
   "display_name": "Python 3",
   "language": "python",
   "name": "python3"
  },
  "language_info": {
   "codemirror_mode": {
    "name": "ipython",
    "version": 3
   },
   "file_extension": ".py",
   "mimetype": "text/x-python",
   "name": "python",
   "nbconvert_exporter": "python",
   "pygments_lexer": "ipython3",
   "version": "3.8.5"
  }
 },
 "nbformat": 4,
 "nbformat_minor": 1
}
