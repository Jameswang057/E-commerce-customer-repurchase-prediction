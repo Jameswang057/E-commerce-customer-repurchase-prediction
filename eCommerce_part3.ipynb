{
  "cells": [
    {
      "cell_type": "markdown",
      "metadata": {
        "id": "OwHK7mHQT2aB"
      },
      "source": [
        "# eCommerce Product Recommendation - Part 3"
      ]
    },
    {
      "cell_type": "markdown",
      "metadata": {
        "id": "CoknezhTpCGn"
      },
      "source": [
        "# 1. Load Feature Data"
      ]
    },
    {
      "cell_type": "code",
      "execution_count": 1,
      "metadata": {
        "id": "axPvI--WNCjK"
      },
      "outputs": [],
      "source": [
        "import warnings\n",
        "warnings.filterwarnings(\"ignore\")"
      ]
    },
    {
      "cell_type": "code",
      "execution_count": null,
      "metadata": {
        "id": "6K-Pkvfzn6H5"
      },
      "outputs": [],
      "source": [
        "import pandas as pd\n",
        "import numpy as np\n",
        "import seaborn as sns\n",
        "import matplotlib.pyplot as plt\n",
        "\n",
        "\n",
        "from imblearn.pipeline import Pipeline \n",
        "from imblearn.under_sampling import RandomUnderSampler \n",
        "from imblearn.over_sampling import RandomOverSampler\n",
        "from sklearn.impute import SimpleImputer\n",
        "from sklearn.model_selection import cross_val_score\n",
        "from sklearn.preprocessing import MinMaxScaler\n",
        "from sklearn.neighbors import KNeighborsClassifier\n",
        "from sklearn.ensemble import RandomForestClassifier, AdaBoostClassifier, GradientBoostingClassifier\n",
        "from sklearn.linear_model import LogisticRegression\n",
        "from sklearn.tree import DecisionTreeClassifier\n",
        "from sklearn.model_selection import cross_val_score\n",
        "from sklearn.model_selection import GridSearchCV\n",
        "\n",
        "from sklearn.metrics import plot_confusion_matrix\n",
        "from sklearn.metrics import accuracy_score\n",
        "from sklearn.metrics import precision_score\n",
        "from sklearn.metrics import recall_score\n",
        "from sklearn.metrics import f1_score\n",
        "from sklearn.metrics import roc_auc_score\n",
        "\n",
        "import keras\n",
        "from keras.utils.vis_utils import plot_model\n",
        "from keras.wrappers.scikit_learn import KerasClassifier"
      ]
    },
    {
      "cell_type": "markdown",
      "source": [
        "改路径"
      ],
      "metadata": {
        "id": "TKbvpDLgeHio"
      }
    },
    {
      "cell_type": "code",
      "execution_count": null,
      "metadata": {
        "id": "kxT1rECQaan9"
      },
      "outputs": [],
      "source": [
        "model_all_data = pd.read_csv('model_all_data.csv')"
      ]
    },
    {
      "cell_type": "code",
      "execution_count": null,
      "metadata": {
        "colab": {
          "base_uri": "https://localhost:8080/",
          "height": 299
        },
        "id": "ogkkgusQtY0_",
        "outputId": "21c7f59f-938f-4a01-875a-190ea15ac187"
      },
      "outputs": [
        {
          "output_type": "execute_result",
          "data": {
            "text/plain": [
              "   user_id  product_id  order_number  order_dow  order_hour_of_day  \\\n",
              "0   152610       30597            22          6                  8   \n",
              "1   152610       15221            22          6                  8   \n",
              "2   152610       43772            22          6                  8   \n",
              "3   152610       37886            22          6                  8   \n",
              "4   152610       37215            22          6                  8   \n",
              "\n",
              "   days_since_prior_order    unique_key  label  user_product__total_orders  \\\n",
              "0                    10.0  152610_30597      0                           5   \n",
              "1                    10.0  152610_15221      0                           8   \n",
              "2                    10.0  152610_43772      0                           2   \n",
              "3                    10.0  152610_37886      0                           2   \n",
              "4                    10.0  152610_37215      0                           1   \n",
              "\n",
              "   user_product__add_to_cart_order_mean  ...  product__most_hod  \\\n",
              "0                                  2.00  ...                  9   \n",
              "1                                  8.25  ...                 12   \n",
              "2                                  3.00  ...                 12   \n",
              "3                                  3.50  ...                 14   \n",
              "4                                  5.00  ...                 13   \n",
              "\n",
              "   product__days_since_prior_order_mean  product__aisle_id  \\\n",
              "0                             12.592593                 53   \n",
              "1                             13.653846                 84   \n",
              "2                             12.008565                 83   \n",
              "3                             11.489362                 53   \n",
              "4                             11.490066                 98   \n",
              "\n",
              "   product__department_id  user__order_count  user__product_count  \\\n",
              "0                      16                 26                  408   \n",
              "1                      16                 26                  408   \n",
              "2                       4                 26                  408   \n",
              "3                      16                 26                  408   \n",
              "4                       7                 26                  408   \n",
              "\n",
              "   user__days_since_prior_order_mean  user__reordered_mean  user__most_dow  \\\n",
              "0                          10.953804                 0.375               6   \n",
              "1                          10.953804                 0.375               6   \n",
              "2                          10.953804                 0.375               6   \n",
              "3                          10.953804                 0.375               6   \n",
              "4                          10.953804                 0.375               6   \n",
              "\n",
              "   user__most_hod  \n",
              "0              12  \n",
              "1              12  \n",
              "2              12  \n",
              "3              12  \n",
              "4              12  \n",
              "\n",
              "[5 rows x 28 columns]"
            ],
            "text/html": [
              "\n",
              "  <div id=\"df-ba25f262-4582-454b-a5c6-384a64c47da7\">\n",
              "    <div class=\"colab-df-container\">\n",
              "      <div>\n",
              "<style scoped>\n",
              "    .dataframe tbody tr th:only-of-type {\n",
              "        vertical-align: middle;\n",
              "    }\n",
              "\n",
              "    .dataframe tbody tr th {\n",
              "        vertical-align: top;\n",
              "    }\n",
              "\n",
              "    .dataframe thead th {\n",
              "        text-align: right;\n",
              "    }\n",
              "</style>\n",
              "<table border=\"1\" class=\"dataframe\">\n",
              "  <thead>\n",
              "    <tr style=\"text-align: right;\">\n",
              "      <th></th>\n",
              "      <th>user_id</th>\n",
              "      <th>product_id</th>\n",
              "      <th>order_number</th>\n",
              "      <th>order_dow</th>\n",
              "      <th>order_hour_of_day</th>\n",
              "      <th>days_since_prior_order</th>\n",
              "      <th>unique_key</th>\n",
              "      <th>label</th>\n",
              "      <th>user_product__total_orders</th>\n",
              "      <th>user_product__add_to_cart_order_mean</th>\n",
              "      <th>...</th>\n",
              "      <th>product__most_hod</th>\n",
              "      <th>product__days_since_prior_order_mean</th>\n",
              "      <th>product__aisle_id</th>\n",
              "      <th>product__department_id</th>\n",
              "      <th>user__order_count</th>\n",
              "      <th>user__product_count</th>\n",
              "      <th>user__days_since_prior_order_mean</th>\n",
              "      <th>user__reordered_mean</th>\n",
              "      <th>user__most_dow</th>\n",
              "      <th>user__most_hod</th>\n",
              "    </tr>\n",
              "  </thead>\n",
              "  <tbody>\n",
              "    <tr>\n",
              "      <th>0</th>\n",
              "      <td>152610</td>\n",
              "      <td>30597</td>\n",
              "      <td>22</td>\n",
              "      <td>6</td>\n",
              "      <td>8</td>\n",
              "      <td>10.0</td>\n",
              "      <td>152610_30597</td>\n",
              "      <td>0</td>\n",
              "      <td>5</td>\n",
              "      <td>2.00</td>\n",
              "      <td>...</td>\n",
              "      <td>9</td>\n",
              "      <td>12.592593</td>\n",
              "      <td>53</td>\n",
              "      <td>16</td>\n",
              "      <td>26</td>\n",
              "      <td>408</td>\n",
              "      <td>10.953804</td>\n",
              "      <td>0.375</td>\n",
              "      <td>6</td>\n",
              "      <td>12</td>\n",
              "    </tr>\n",
              "    <tr>\n",
              "      <th>1</th>\n",
              "      <td>152610</td>\n",
              "      <td>15221</td>\n",
              "      <td>22</td>\n",
              "      <td>6</td>\n",
              "      <td>8</td>\n",
              "      <td>10.0</td>\n",
              "      <td>152610_15221</td>\n",
              "      <td>0</td>\n",
              "      <td>8</td>\n",
              "      <td>8.25</td>\n",
              "      <td>...</td>\n",
              "      <td>12</td>\n",
              "      <td>13.653846</td>\n",
              "      <td>84</td>\n",
              "      <td>16</td>\n",
              "      <td>26</td>\n",
              "      <td>408</td>\n",
              "      <td>10.953804</td>\n",
              "      <td>0.375</td>\n",
              "      <td>6</td>\n",
              "      <td>12</td>\n",
              "    </tr>\n",
              "    <tr>\n",
              "      <th>2</th>\n",
              "      <td>152610</td>\n",
              "      <td>43772</td>\n",
              "      <td>22</td>\n",
              "      <td>6</td>\n",
              "      <td>8</td>\n",
              "      <td>10.0</td>\n",
              "      <td>152610_43772</td>\n",
              "      <td>0</td>\n",
              "      <td>2</td>\n",
              "      <td>3.00</td>\n",
              "      <td>...</td>\n",
              "      <td>12</td>\n",
              "      <td>12.008565</td>\n",
              "      <td>83</td>\n",
              "      <td>4</td>\n",
              "      <td>26</td>\n",
              "      <td>408</td>\n",
              "      <td>10.953804</td>\n",
              "      <td>0.375</td>\n",
              "      <td>6</td>\n",
              "      <td>12</td>\n",
              "    </tr>\n",
              "    <tr>\n",
              "      <th>3</th>\n",
              "      <td>152610</td>\n",
              "      <td>37886</td>\n",
              "      <td>22</td>\n",
              "      <td>6</td>\n",
              "      <td>8</td>\n",
              "      <td>10.0</td>\n",
              "      <td>152610_37886</td>\n",
              "      <td>0</td>\n",
              "      <td>2</td>\n",
              "      <td>3.50</td>\n",
              "      <td>...</td>\n",
              "      <td>14</td>\n",
              "      <td>11.489362</td>\n",
              "      <td>53</td>\n",
              "      <td>16</td>\n",
              "      <td>26</td>\n",
              "      <td>408</td>\n",
              "      <td>10.953804</td>\n",
              "      <td>0.375</td>\n",
              "      <td>6</td>\n",
              "      <td>12</td>\n",
              "    </tr>\n",
              "    <tr>\n",
              "      <th>4</th>\n",
              "      <td>152610</td>\n",
              "      <td>37215</td>\n",
              "      <td>22</td>\n",
              "      <td>6</td>\n",
              "      <td>8</td>\n",
              "      <td>10.0</td>\n",
              "      <td>152610_37215</td>\n",
              "      <td>0</td>\n",
              "      <td>1</td>\n",
              "      <td>5.00</td>\n",
              "      <td>...</td>\n",
              "      <td>13</td>\n",
              "      <td>11.490066</td>\n",
              "      <td>98</td>\n",
              "      <td>7</td>\n",
              "      <td>26</td>\n",
              "      <td>408</td>\n",
              "      <td>10.953804</td>\n",
              "      <td>0.375</td>\n",
              "      <td>6</td>\n",
              "      <td>12</td>\n",
              "    </tr>\n",
              "  </tbody>\n",
              "</table>\n",
              "<p>5 rows × 28 columns</p>\n",
              "</div>\n",
              "      <button class=\"colab-df-convert\" onclick=\"convertToInteractive('df-ba25f262-4582-454b-a5c6-384a64c47da7')\"\n",
              "              title=\"Convert this dataframe to an interactive table.\"\n",
              "              style=\"display:none;\">\n",
              "        \n",
              "  <svg xmlns=\"http://www.w3.org/2000/svg\" height=\"24px\"viewBox=\"0 0 24 24\"\n",
              "       width=\"24px\">\n",
              "    <path d=\"M0 0h24v24H0V0z\" fill=\"none\"/>\n",
              "    <path d=\"M18.56 5.44l.94 2.06.94-2.06 2.06-.94-2.06-.94-.94-2.06-.94 2.06-2.06.94zm-11 1L8.5 8.5l.94-2.06 2.06-.94-2.06-.94L8.5 2.5l-.94 2.06-2.06.94zm10 10l.94 2.06.94-2.06 2.06-.94-2.06-.94-.94-2.06-.94 2.06-2.06.94z\"/><path d=\"M17.41 7.96l-1.37-1.37c-.4-.4-.92-.59-1.43-.59-.52 0-1.04.2-1.43.59L10.3 9.45l-7.72 7.72c-.78.78-.78 2.05 0 2.83L4 21.41c.39.39.9.59 1.41.59.51 0 1.02-.2 1.41-.59l7.78-7.78 2.81-2.81c.8-.78.8-2.07 0-2.86zM5.41 20L4 18.59l7.72-7.72 1.47 1.35L5.41 20z\"/>\n",
              "  </svg>\n",
              "      </button>\n",
              "      \n",
              "  <style>\n",
              "    .colab-df-container {\n",
              "      display:flex;\n",
              "      flex-wrap:wrap;\n",
              "      gap: 12px;\n",
              "    }\n",
              "\n",
              "    .colab-df-convert {\n",
              "      background-color: #E8F0FE;\n",
              "      border: none;\n",
              "      border-radius: 50%;\n",
              "      cursor: pointer;\n",
              "      display: none;\n",
              "      fill: #1967D2;\n",
              "      height: 32px;\n",
              "      padding: 0 0 0 0;\n",
              "      width: 32px;\n",
              "    }\n",
              "\n",
              "    .colab-df-convert:hover {\n",
              "      background-color: #E2EBFA;\n",
              "      box-shadow: 0px 1px 2px rgba(60, 64, 67, 0.3), 0px 1px 3px 1px rgba(60, 64, 67, 0.15);\n",
              "      fill: #174EA6;\n",
              "    }\n",
              "\n",
              "    [theme=dark] .colab-df-convert {\n",
              "      background-color: #3B4455;\n",
              "      fill: #D2E3FC;\n",
              "    }\n",
              "\n",
              "    [theme=dark] .colab-df-convert:hover {\n",
              "      background-color: #434B5C;\n",
              "      box-shadow: 0px 1px 3px 1px rgba(0, 0, 0, 0.15);\n",
              "      filter: drop-shadow(0px 1px 2px rgba(0, 0, 0, 0.3));\n",
              "      fill: #FFFFFF;\n",
              "    }\n",
              "  </style>\n",
              "\n",
              "      <script>\n",
              "        const buttonEl =\n",
              "          document.querySelector('#df-ba25f262-4582-454b-a5c6-384a64c47da7 button.colab-df-convert');\n",
              "        buttonEl.style.display =\n",
              "          google.colab.kernel.accessAllowed ? 'block' : 'none';\n",
              "\n",
              "        async function convertToInteractive(key) {\n",
              "          const element = document.querySelector('#df-ba25f262-4582-454b-a5c6-384a64c47da7');\n",
              "          const dataTable =\n",
              "            await google.colab.kernel.invokeFunction('convertToInteractive',\n",
              "                                                     [key], {});\n",
              "          if (!dataTable) return;\n",
              "\n",
              "          const docLinkHtml = 'Like what you see? Visit the ' +\n",
              "            '<a target=\"_blank\" href=https://colab.research.google.com/notebooks/data_table.ipynb>data table notebook</a>'\n",
              "            + ' to learn more about interactive tables.';\n",
              "          element.innerHTML = '';\n",
              "          dataTable['output_type'] = 'display_data';\n",
              "          await google.colab.output.renderOutput(dataTable, element);\n",
              "          const docLink = document.createElement('div');\n",
              "          docLink.innerHTML = docLinkHtml;\n",
              "          element.appendChild(docLink);\n",
              "        }\n",
              "      </script>\n",
              "    </div>\n",
              "  </div>\n",
              "  "
            ]
          },
          "metadata": {},
          "execution_count": 7
        }
      ],
      "source": [
        "model_all_data.head()"
      ]
    },
    {
      "cell_type": "code",
      "execution_count": null,
      "metadata": {
        "id": "Luaz0Ak8oWxT"
      },
      "outputs": [],
      "source": [
        "unique_key = ['user_id', 'product_id']\n",
        "\n",
        "raw_features = ['order_number',\n",
        "                     'order_dow',\n",
        "                     'order_hour_of_day',\n",
        "                     'days_since_prior_order',\n",
        "                     'user_product__total_orders',\n",
        "                     'user_product__add_to_cart_order_mean',\n",
        "                     'user_product__reordered_mean',\n",
        "                     'user_product__most_dow',\n",
        "                     'user_product__most_hod',\n",
        "                     'product__total_orders',\n",
        "                     'product__add_to_cart_order_mean',\n",
        "                     'product__total_users',\n",
        "                     'product__reordered_mean',\n",
        "                     'product__most_dow',\n",
        "                     'product__most_hod',\n",
        "                     'product__days_since_prior_order_mean',\n",
        "                     'user__order_count',\n",
        "                     'user__product_count',\n",
        "                     'user__days_since_prior_order_mean',\n",
        "                     'user__reordered_mean',\n",
        "                     'user__most_dow',\n",
        "                     'user__most_hod',\n",
        "                     'product__aisle_id',\n",
        "                     'product__department_id',\n",
        "                     ]\n",
        "                   \n",
        "label = ['label']"
      ]
    },
    {
      "cell_type": "code",
      "execution_count": null,
      "metadata": {
        "id": "7vxDeP_Jos-s"
      },
      "outputs": [],
      "source": [
        "model_all_data = model_all_data[unique_key + raw_features + label]"
      ]
    },
    {
      "cell_type": "code",
      "execution_count": null,
      "metadata": {
        "colab": {
          "base_uri": "https://localhost:8080/",
          "height": 299
        },
        "id": "HSa9U-1Dow8g",
        "outputId": "918064d2-52d5-4dde-e45a-a83d6a6618a7"
      },
      "outputs": [
        {
          "output_type": "execute_result",
          "data": {
            "text/plain": [
              "   user_id  product_id  order_number  order_dow  order_hour_of_day  \\\n",
              "0   152610       30597            22          6                  8   \n",
              "1   152610       15221            22          6                  8   \n",
              "2   152610       43772            22          6                  8   \n",
              "3   152610       37886            22          6                  8   \n",
              "4   152610       37215            22          6                  8   \n",
              "\n",
              "   days_since_prior_order  user_product__total_orders  \\\n",
              "0                    10.0                           5   \n",
              "1                    10.0                           8   \n",
              "2                    10.0                           2   \n",
              "3                    10.0                           2   \n",
              "4                    10.0                           1   \n",
              "\n",
              "   user_product__add_to_cart_order_mean  user_product__reordered_mean  \\\n",
              "0                                  2.00                         0.800   \n",
              "1                                  8.25                         0.875   \n",
              "2                                  3.00                         0.500   \n",
              "3                                  3.50                         0.500   \n",
              "4                                  5.00                         0.000   \n",
              "\n",
              "   user_product__most_dow  ...  product__days_since_prior_order_mean  \\\n",
              "0                       6  ...                             12.592593   \n",
              "1                       4  ...                             13.653846   \n",
              "2                       5  ...                             12.008565   \n",
              "3                       6  ...                             11.489362   \n",
              "4                       6  ...                             11.490066   \n",
              "\n",
              "   user__order_count  user__product_count  user__days_since_prior_order_mean  \\\n",
              "0                 26                  408                          10.953804   \n",
              "1                 26                  408                          10.953804   \n",
              "2                 26                  408                          10.953804   \n",
              "3                 26                  408                          10.953804   \n",
              "4                 26                  408                          10.953804   \n",
              "\n",
              "   user__reordered_mean  user__most_dow  user__most_hod  product__aisle_id  \\\n",
              "0                 0.375               6              12                 53   \n",
              "1                 0.375               6              12                 84   \n",
              "2                 0.375               6              12                 83   \n",
              "3                 0.375               6              12                 53   \n",
              "4                 0.375               6              12                 98   \n",
              "\n",
              "   product__department_id  label  \n",
              "0                      16      0  \n",
              "1                      16      0  \n",
              "2                       4      0  \n",
              "3                      16      0  \n",
              "4                       7      0  \n",
              "\n",
              "[5 rows x 27 columns]"
            ],
            "text/html": [
              "\n",
              "  <div id=\"df-fb1d6bba-65f2-4747-b5fb-534757a982f6\">\n",
              "    <div class=\"colab-df-container\">\n",
              "      <div>\n",
              "<style scoped>\n",
              "    .dataframe tbody tr th:only-of-type {\n",
              "        vertical-align: middle;\n",
              "    }\n",
              "\n",
              "    .dataframe tbody tr th {\n",
              "        vertical-align: top;\n",
              "    }\n",
              "\n",
              "    .dataframe thead th {\n",
              "        text-align: right;\n",
              "    }\n",
              "</style>\n",
              "<table border=\"1\" class=\"dataframe\">\n",
              "  <thead>\n",
              "    <tr style=\"text-align: right;\">\n",
              "      <th></th>\n",
              "      <th>user_id</th>\n",
              "      <th>product_id</th>\n",
              "      <th>order_number</th>\n",
              "      <th>order_dow</th>\n",
              "      <th>order_hour_of_day</th>\n",
              "      <th>days_since_prior_order</th>\n",
              "      <th>user_product__total_orders</th>\n",
              "      <th>user_product__add_to_cart_order_mean</th>\n",
              "      <th>user_product__reordered_mean</th>\n",
              "      <th>user_product__most_dow</th>\n",
              "      <th>...</th>\n",
              "      <th>product__days_since_prior_order_mean</th>\n",
              "      <th>user__order_count</th>\n",
              "      <th>user__product_count</th>\n",
              "      <th>user__days_since_prior_order_mean</th>\n",
              "      <th>user__reordered_mean</th>\n",
              "      <th>user__most_dow</th>\n",
              "      <th>user__most_hod</th>\n",
              "      <th>product__aisle_id</th>\n",
              "      <th>product__department_id</th>\n",
              "      <th>label</th>\n",
              "    </tr>\n",
              "  </thead>\n",
              "  <tbody>\n",
              "    <tr>\n",
              "      <th>0</th>\n",
              "      <td>152610</td>\n",
              "      <td>30597</td>\n",
              "      <td>22</td>\n",
              "      <td>6</td>\n",
              "      <td>8</td>\n",
              "      <td>10.0</td>\n",
              "      <td>5</td>\n",
              "      <td>2.00</td>\n",
              "      <td>0.800</td>\n",
              "      <td>6</td>\n",
              "      <td>...</td>\n",
              "      <td>12.592593</td>\n",
              "      <td>26</td>\n",
              "      <td>408</td>\n",
              "      <td>10.953804</td>\n",
              "      <td>0.375</td>\n",
              "      <td>6</td>\n",
              "      <td>12</td>\n",
              "      <td>53</td>\n",
              "      <td>16</td>\n",
              "      <td>0</td>\n",
              "    </tr>\n",
              "    <tr>\n",
              "      <th>1</th>\n",
              "      <td>152610</td>\n",
              "      <td>15221</td>\n",
              "      <td>22</td>\n",
              "      <td>6</td>\n",
              "      <td>8</td>\n",
              "      <td>10.0</td>\n",
              "      <td>8</td>\n",
              "      <td>8.25</td>\n",
              "      <td>0.875</td>\n",
              "      <td>4</td>\n",
              "      <td>...</td>\n",
              "      <td>13.653846</td>\n",
              "      <td>26</td>\n",
              "      <td>408</td>\n",
              "      <td>10.953804</td>\n",
              "      <td>0.375</td>\n",
              "      <td>6</td>\n",
              "      <td>12</td>\n",
              "      <td>84</td>\n",
              "      <td>16</td>\n",
              "      <td>0</td>\n",
              "    </tr>\n",
              "    <tr>\n",
              "      <th>2</th>\n",
              "      <td>152610</td>\n",
              "      <td>43772</td>\n",
              "      <td>22</td>\n",
              "      <td>6</td>\n",
              "      <td>8</td>\n",
              "      <td>10.0</td>\n",
              "      <td>2</td>\n",
              "      <td>3.00</td>\n",
              "      <td>0.500</td>\n",
              "      <td>5</td>\n",
              "      <td>...</td>\n",
              "      <td>12.008565</td>\n",
              "      <td>26</td>\n",
              "      <td>408</td>\n",
              "      <td>10.953804</td>\n",
              "      <td>0.375</td>\n",
              "      <td>6</td>\n",
              "      <td>12</td>\n",
              "      <td>83</td>\n",
              "      <td>4</td>\n",
              "      <td>0</td>\n",
              "    </tr>\n",
              "    <tr>\n",
              "      <th>3</th>\n",
              "      <td>152610</td>\n",
              "      <td>37886</td>\n",
              "      <td>22</td>\n",
              "      <td>6</td>\n",
              "      <td>8</td>\n",
              "      <td>10.0</td>\n",
              "      <td>2</td>\n",
              "      <td>3.50</td>\n",
              "      <td>0.500</td>\n",
              "      <td>6</td>\n",
              "      <td>...</td>\n",
              "      <td>11.489362</td>\n",
              "      <td>26</td>\n",
              "      <td>408</td>\n",
              "      <td>10.953804</td>\n",
              "      <td>0.375</td>\n",
              "      <td>6</td>\n",
              "      <td>12</td>\n",
              "      <td>53</td>\n",
              "      <td>16</td>\n",
              "      <td>0</td>\n",
              "    </tr>\n",
              "    <tr>\n",
              "      <th>4</th>\n",
              "      <td>152610</td>\n",
              "      <td>37215</td>\n",
              "      <td>22</td>\n",
              "      <td>6</td>\n",
              "      <td>8</td>\n",
              "      <td>10.0</td>\n",
              "      <td>1</td>\n",
              "      <td>5.00</td>\n",
              "      <td>0.000</td>\n",
              "      <td>6</td>\n",
              "      <td>...</td>\n",
              "      <td>11.490066</td>\n",
              "      <td>26</td>\n",
              "      <td>408</td>\n",
              "      <td>10.953804</td>\n",
              "      <td>0.375</td>\n",
              "      <td>6</td>\n",
              "      <td>12</td>\n",
              "      <td>98</td>\n",
              "      <td>7</td>\n",
              "      <td>0</td>\n",
              "    </tr>\n",
              "  </tbody>\n",
              "</table>\n",
              "<p>5 rows × 27 columns</p>\n",
              "</div>\n",
              "      <button class=\"colab-df-convert\" onclick=\"convertToInteractive('df-fb1d6bba-65f2-4747-b5fb-534757a982f6')\"\n",
              "              title=\"Convert this dataframe to an interactive table.\"\n",
              "              style=\"display:none;\">\n",
              "        \n",
              "  <svg xmlns=\"http://www.w3.org/2000/svg\" height=\"24px\"viewBox=\"0 0 24 24\"\n",
              "       width=\"24px\">\n",
              "    <path d=\"M0 0h24v24H0V0z\" fill=\"none\"/>\n",
              "    <path d=\"M18.56 5.44l.94 2.06.94-2.06 2.06-.94-2.06-.94-.94-2.06-.94 2.06-2.06.94zm-11 1L8.5 8.5l.94-2.06 2.06-.94-2.06-.94L8.5 2.5l-.94 2.06-2.06.94zm10 10l.94 2.06.94-2.06 2.06-.94-2.06-.94-.94-2.06-.94 2.06-2.06.94z\"/><path d=\"M17.41 7.96l-1.37-1.37c-.4-.4-.92-.59-1.43-.59-.52 0-1.04.2-1.43.59L10.3 9.45l-7.72 7.72c-.78.78-.78 2.05 0 2.83L4 21.41c.39.39.9.59 1.41.59.51 0 1.02-.2 1.41-.59l7.78-7.78 2.81-2.81c.8-.78.8-2.07 0-2.86zM5.41 20L4 18.59l7.72-7.72 1.47 1.35L5.41 20z\"/>\n",
              "  </svg>\n",
              "      </button>\n",
              "      \n",
              "  <style>\n",
              "    .colab-df-container {\n",
              "      display:flex;\n",
              "      flex-wrap:wrap;\n",
              "      gap: 12px;\n",
              "    }\n",
              "\n",
              "    .colab-df-convert {\n",
              "      background-color: #E8F0FE;\n",
              "      border: none;\n",
              "      border-radius: 50%;\n",
              "      cursor: pointer;\n",
              "      display: none;\n",
              "      fill: #1967D2;\n",
              "      height: 32px;\n",
              "      padding: 0 0 0 0;\n",
              "      width: 32px;\n",
              "    }\n",
              "\n",
              "    .colab-df-convert:hover {\n",
              "      background-color: #E2EBFA;\n",
              "      box-shadow: 0px 1px 2px rgba(60, 64, 67, 0.3), 0px 1px 3px 1px rgba(60, 64, 67, 0.15);\n",
              "      fill: #174EA6;\n",
              "    }\n",
              "\n",
              "    [theme=dark] .colab-df-convert {\n",
              "      background-color: #3B4455;\n",
              "      fill: #D2E3FC;\n",
              "    }\n",
              "\n",
              "    [theme=dark] .colab-df-convert:hover {\n",
              "      background-color: #434B5C;\n",
              "      box-shadow: 0px 1px 3px 1px rgba(0, 0, 0, 0.15);\n",
              "      filter: drop-shadow(0px 1px 2px rgba(0, 0, 0, 0.3));\n",
              "      fill: #FFFFFF;\n",
              "    }\n",
              "  </style>\n",
              "\n",
              "      <script>\n",
              "        const buttonEl =\n",
              "          document.querySelector('#df-fb1d6bba-65f2-4747-b5fb-534757a982f6 button.colab-df-convert');\n",
              "        buttonEl.style.display =\n",
              "          google.colab.kernel.accessAllowed ? 'block' : 'none';\n",
              "\n",
              "        async function convertToInteractive(key) {\n",
              "          const element = document.querySelector('#df-fb1d6bba-65f2-4747-b5fb-534757a982f6');\n",
              "          const dataTable =\n",
              "            await google.colab.kernel.invokeFunction('convertToInteractive',\n",
              "                                                     [key], {});\n",
              "          if (!dataTable) return;\n",
              "\n",
              "          const docLinkHtml = 'Like what you see? Visit the ' +\n",
              "            '<a target=\"_blank\" href=https://colab.research.google.com/notebooks/data_table.ipynb>data table notebook</a>'\n",
              "            + ' to learn more about interactive tables.';\n",
              "          element.innerHTML = '';\n",
              "          dataTable['output_type'] = 'display_data';\n",
              "          await google.colab.output.renderOutput(dataTable, element);\n",
              "          const docLink = document.createElement('div');\n",
              "          docLink.innerHTML = docLinkHtml;\n",
              "          element.appendChild(docLink);\n",
              "        }\n",
              "      </script>\n",
              "    </div>\n",
              "  </div>\n",
              "  "
            ]
          },
          "metadata": {},
          "execution_count": 10
        }
      ],
      "source": [
        "model_all_data.head()"
      ]
    },
    {
      "cell_type": "markdown",
      "metadata": {
        "id": "6TJxEfPopfI6"
      },
      "source": [
        "# 2. Feature Data Analysis & Tranformation"
      ]
    },
    {
      "cell_type": "markdown",
      "metadata": {
        "id": "ObTVgGe3pm2c"
      },
      "source": [
        "2.1. Label Ratio"
      ]
    },
    {
      "cell_type": "code",
      "execution_count": null,
      "metadata": {
        "colab": {
          "base_uri": "https://localhost:8080/"
        },
        "id": "XVj-GV6QpWiF",
        "outputId": "de41c963-3863-4754-eb15-ccfbd4cd0221"
      },
      "outputs": [
        {
          "output_type": "stream",
          "name": "stdout",
          "text": [
            "Negative label count:  297467\n",
            "Positive label count:  32339\n",
            "Positive label rate is 9.81%\n"
          ]
        }
      ],
      "source": [
        "label_count = model_all_data.label.value_counts()\n",
        "print(\"Negative label count: \", label_count[0])\n",
        "print(\"Positive label count: \", label_count[1])\n",
        "print(\"Positive label rate is {:.2f}%\".format(\n",
        "      label_count[1] / (label_count[0] + label_count[1]) * 100) )"
      ]
    },
    {
      "cell_type": "code",
      "execution_count": null,
      "metadata": {
        "colab": {
          "base_uri": "https://localhost:8080/",
          "height": 281
        },
        "id": "xs2FKtjToxya",
        "outputId": "abd191d7-24ba-433f-e205-8270b0688f58"
      },
      "outputs": [
        {
          "output_type": "display_data",
          "data": {
            "text/plain": [
              "<Figure size 432x288 with 1 Axes>"
            ],
            "image/png": "[encoded data removed]"
          },
          "metadata": {
            "needs_background": "light"
          }
        }
      ],
      "source": [
        "ax = label_count.sort_values().plot(kind='barh', title='Labels Count')\n",
        "ax.grid(axis=\"x\")"
      ]
    },
    {
      "cell_type": "markdown",
      "metadata": {
        "id": "s-G6r5JxrDf1"
      },
      "source": [
        "2.2. Null value check"
      ]
    },
    {
      "cell_type": "code",
      "execution_count": null,
      "metadata": {
        "colab": {
          "base_uri": "https://localhost:8080/"
        },
        "id": "YDOcN-_wrDQG",
        "outputId": "15c2e0c8-375b-4883-becd-414d8a2b71d1"
      },
      "outputs": [
        {
          "output_type": "execute_result",
          "data": {
            "text/plain": [
              "user_id                                     0\n",
              "product_id                                  0\n",
              "order_number                                0\n",
              "order_dow                                   0\n",
              "order_hour_of_day                           0\n",
              "days_since_prior_order                  29995\n",
              "user_product__total_orders                  0\n",
              "user_product__add_to_cart_order_mean        0\n",
              "user_product__reordered_mean                0\n",
              "user_product__most_dow                      0\n",
              "user_product__most_hod                      0\n",
              "product__total_orders                       0\n",
              "product__add_to_cart_order_mean             0\n",
              "product__total_users                        0\n",
              "product__reordered_mean                     0\n",
              "product__most_dow                           0\n",
              "product__most_hod                           0\n",
              "product__days_since_prior_order_mean      726\n",
              "user__order_count                           0\n",
              "user__product_count                         0\n",
              "user__days_since_prior_order_mean           0\n",
              "user__reordered_mean                        0\n",
              "user__most_dow                              0\n",
              "user__most_hod                              0\n",
              "product__aisle_id                           0\n",
              "product__department_id                      0\n",
              "label                                       0\n",
              "dtype: int64"
            ]
          },
          "metadata": {},
          "execution_count": 13
        }
      ],
      "source": [
        "model_all_data.isna().sum()"
      ]
    },
    {
      "cell_type": "markdown",
      "metadata": {
        "id": "isKWh5gVrVO9"
      },
      "source": [
        "2.3. Categorical Feature Transformation\n"
      ]
    },
    {
      "cell_type": "code",
      "execution_count": null,
      "metadata": {
        "id": "CgwwX0Q-qHRz"
      },
      "outputs": [],
      "source": [
        "# One-hot encoding for the `product__department_id` feature.\n",
        "model_all_data = pd.concat(\n",
        "    [model_all_data.drop('product__department_id',axis=1),\n",
        "     pd.get_dummies(model_all_data[\"product__department_id\"],\n",
        "                    prefix='product__department_id_')],\n",
        "                     axis=1)"
      ]
    },
    {
      "cell_type": "markdown",
      "metadata": {
        "id": "wColDjFnsbLi"
      },
      "source": [
        "# 3. Split Dataset to Train, Validation and Test"
      ]
    },
    {
      "cell_type": "markdown",
      "metadata": {
        "id": "dswd8BaZssuj"
      },
      "source": [
        "In order to do model training, model selection and evaluation, we split `model_all_data` to three parts: train, validation, test."
      ]
    },
    {
      "cell_type": "code",
      "execution_count": null,
      "metadata": {
        "id": "65tqr0gAttGL"
      },
      "outputs": [],
      "source": [
        "# We randomly select 20% users as test data. \n",
        "# The remaining data will be used as train & validation data.\n",
        "test_user_ids = model_all_data.user_id.drop_duplicates().sample(frac=0.2)\n",
        "\n",
        "train_validation_data = model_all_data[~model_all_data.user_id.isin(test_user_ids)]\n",
        "test_data = model_all_data[model_all_data.user_id.isin(test_user_ids)]"
      ]
    },
    {
      "cell_type": "code",
      "execution_count": null,
      "metadata": {
        "colab": {
          "base_uri": "https://localhost:8080/"
        },
        "id": "4Ph83khusTut",
        "outputId": "a326d2dd-e379-48c4-fe34-5c1e11ce3c00"
      },
      "outputs": [
        {
          "output_type": "execute_result",
          "data": {
            "text/plain": [
              "(329806, 47)"
            ]
          },
          "metadata": {},
          "execution_count": 16
        }
      ],
      "source": [
        "model_all_data.shape"
      ]
    },
    {
      "cell_type": "code",
      "execution_count": null,
      "metadata": {
        "colab": {
          "base_uri": "https://localhost:8080/"
        },
        "id": "ZRj7Tp-0umcc",
        "outputId": "ad56b5cb-bdb7-4500-aa6a-17aefeb49cca"
      },
      "outputs": [
        {
          "output_type": "execute_result",
          "data": {
            "text/plain": [
              "(267900, 47)"
            ]
          },
          "metadata": {},
          "execution_count": 17
        }
      ],
      "source": [
        "train_validation_data.shape"
      ]
    },
    {
      "cell_type": "code",
      "execution_count": null,
      "metadata": {
        "colab": {
          "base_uri": "https://localhost:8080/"
        },
        "id": "xtBwSUXwu-5w",
        "outputId": "f6879936-d95d-4c4c-9cf1-0fce6656d8bf"
      },
      "outputs": [
        {
          "output_type": "execute_result",
          "data": {
            "text/plain": [
              "(61906, 47)"
            ]
          },
          "metadata": {},
          "execution_count": 18
        }
      ],
      "source": [
        "test_data.shape"
      ]
    },
    {
      "cell_type": "markdown",
      "metadata": {
        "id": "751m91O-D2J4"
      },
      "source": [
        "# 4. Model Selection with Cross Validation"
      ]
    },
    {
      "cell_type": "markdown",
      "metadata": {
        "id": "wF04v6wkn6Cy"
      },
      "source": [
        "4.1. Model Selection with All Features"
      ]
    },
    {
      "cell_type": "code",
      "execution_count": null,
      "metadata": {
        "id": "3SuiquaZKhgb"
      },
      "outputs": [],
      "source": [
        "train_validation_data_x = train_validation_data.drop(['user_id', 'product_id', 'label'],axis=1)\n",
        "train_validation_data_y = train_validation_data['label']"
      ]
    },
    {
      "cell_type": "code",
      "execution_count": null,
      "metadata": {
        "id": "ggI9_UAB_VX6"
      },
      "outputs": [],
      "source": [
        "classifiers = [\n",
        "    LogisticRegression(),\n",
        "    DecisionTreeClassifier(),\n",
        "    RandomForestClassifier(),\n",
        "    AdaBoostClassifier(),\n",
        "    GradientBoostingClassifier(),\n",
        "    ]"
      ]
    },
    {
      "cell_type": "code",
      "execution_count": null,
      "metadata": {
        "id": "95HAZDDrMbEj"
      },
      "outputs": [],
      "source": [
        "def build_ml_pipeline(classifier): \n",
        "  steps = list()\n",
        "  steps.append(('fillnan', SimpleImputer(missing_values=np.nan, strategy='constant', fill_value=0.0)))\n",
        "  steps.append(('downSample', RandomUnderSampler()))\n",
        "  steps.append(('scaler', MinMaxScaler()))\n",
        "  steps.append(('model', classifier))\n",
        "  pipeline = Pipeline(steps=steps)\n",
        "  return pipeline"
      ]
    },
    {
      "cell_type": "code",
      "execution_count": null,
      "metadata": {
        "colab": {
          "base_uri": "https://localhost:8080/"
        },
        "id": "3on93yGbMtkr",
        "outputId": "393486b3-a7d1-46bc-befb-85aa209a5ce2"
      },
      "outputs": [
        {
          "output_type": "stream",
          "name": "stdout",
          "text": [
            "CPU times: user 9.02 s, sys: 4.1 s, total: 13.1 s\n",
            "Wall time: 7.49 s\n",
            "LogisticRegression : F1 value is 34.759 (2.660)\n",
            "==============\n",
            "CPU times: user 6.42 s, sys: 110 ms, total: 6.53 s\n",
            "Wall time: 6.43 s\n",
            "DecisionTreeClassifier : F1 value is 24.898 (1.309)\n",
            "==============\n",
            "CPU times: user 1min 2s, sys: 304 ms, total: 1min 3s\n",
            "Wall time: 1min 4s\n",
            "RandomForestClassifier : F1 value is 33.925 (3.113)\n",
            "==============\n",
            "CPU times: user 29.5 s, sys: 209 ms, total: 29.8 s\n",
            "Wall time: 29.7 s\n",
            "AdaBoostClassifier : F1 value is 34.267 (3.532)\n",
            "==============\n",
            "CPU times: user 1min 43s, sys: 203 ms, total: 1min 43s\n",
            "Wall time: 1min 43s\n",
            "GradientBoostingClassifier : F1 value is 35.186 (3.654)\n",
            "==============\n"
          ]
        }
      ],
      "source": [
        "for classifier in classifiers:\n",
        "  pipeline = build_ml_pipeline(classifier)\n",
        "  %time scores = cross_val_score(pipeline, train_validation_data_x, train_validation_data_y, cv=5, scoring='f1')\n",
        "  print(classifier.__class__.__name__, ': F1 value is %.3f (%.3f)' % (np.mean(scores)*100, np.std(scores)*100))\n",
        "  print('==============')"
      ]
    },
    {
      "cell_type": "markdown",
      "metadata": {
        "id": "r9O2Y0OZrQsW"
      },
      "source": [
        "4.2. Feature Selection"
      ]
    },
    {
      "cell_type": "code",
      "execution_count": null,
      "metadata": {
        "id": "xVEukT4ur16y",
        "colab": {
          "base_uri": "https://localhost:8080/"
        },
        "outputId": "460842e0-545c-4413-ce05-378ef294aabe"
      },
      "outputs": [
        {
          "output_type": "execute_result",
          "data": {
            "text/plain": [
              "Pipeline(steps=[('fillnan', SimpleImputer(fill_value=0.0, strategy='constant')),\n",
              "                ('downSample', RandomUnderSampler()),\n",
              "                ('scaler', MinMaxScaler()),\n",
              "                ('model', GradientBoostingClassifier())])"
            ]
          },
          "metadata": {},
          "execution_count": 23
        }
      ],
      "source": [
        "pipeline = build_ml_pipeline(GradientBoostingClassifier()) \n",
        "pipeline.fit(train_validation_data_x, train_validation_data_y)"
      ]
    },
    {
      "cell_type": "code",
      "execution_count": null,
      "metadata": {
        "id": "UI0CAkrlse5f"
      },
      "outputs": [],
      "source": [
        "importances = pipeline.steps[3][1].feature_importances_\n",
        "feature_names=train_validation_data_x.columns.tolist()"
      ]
    },
    {
      "cell_type": "code",
      "execution_count": null,
      "metadata": {
        "id": "-bLQMeY7tnWF"
      },
      "outputs": [],
      "source": [
        "df_importances = pd.DataFrame(\n",
        "    {\"feature\":feature_names, \"importance\":importances}).sort_values(\"importance\", ascending=False)\n",
        "top15_features = df_importances.head(15)    "
      ]
    },
    {
      "cell_type": "code",
      "execution_count": null,
      "metadata": {
        "id": "2joVufsauGEC"
      },
      "outputs": [],
      "source": [
        "# Only use the selected top 15 features in our training data.\n",
        "train_validation_data_x_select_features = train_validation_data_x[top15_features['feature']]"
      ]
    },
    {
      "cell_type": "code",
      "execution_count": null,
      "metadata": {
        "id": "ALhHyb8ttT-5",
        "colab": {
          "base_uri": "https://localhost:8080/",
          "height": 519
        },
        "outputId": "3248a576-e5ae-4045-b545-bbbba05109df"
      },
      "outputs": [
        {
          "output_type": "execute_result",
          "data": {
            "text/plain": [
              "                                 feature  importance\n",
              "16                     user__order_count    0.303730\n",
              "4             user_product__total_orders    0.296857\n",
              "6           user_product__reordered_mean    0.206326\n",
              "0                           order_number    0.077054\n",
              "12               product__reordered_mean    0.076045\n",
              "19                  user__reordered_mean    0.009702\n",
              "9                  product__total_orders    0.006644\n",
              "3                 days_since_prior_order    0.004204\n",
              "18     user__days_since_prior_order_mean    0.003836\n",
              "17                   user__product_count    0.003048\n",
              "11                  product__total_users    0.002875\n",
              "35            product__department_id__13    0.002386\n",
              "15  product__days_since_prior_order_mean    0.001978\n",
              "10       product__add_to_cart_order_mean    0.001700\n",
              "21                        user__most_hod    0.000849"
            ],
            "text/html": [
              "\n",
              "  <div id=\"df-e68f1751-c336-4fcb-af9a-d8ff23a1bfc6\">\n",
              "    <div class=\"colab-df-container\">\n",
              "      <div>\n",
              "<style scoped>\n",
              "    .dataframe tbody tr th:only-of-type {\n",
              "        vertical-align: middle;\n",
              "    }\n",
              "\n",
              "    .dataframe tbody tr th {\n",
              "        vertical-align: top;\n",
              "    }\n",
              "\n",
              "    .dataframe thead th {\n",
              "        text-align: right;\n",
              "    }\n",
              "</style>\n",
              "<table border=\"1\" class=\"dataframe\">\n",
              "  <thead>\n",
              "    <tr style=\"text-align: right;\">\n",
              "      <th></th>\n",
              "      <th>feature</th>\n",
              "      <th>importance</th>\n",
              "    </tr>\n",
              "  </thead>\n",
              "  <tbody>\n",
              "    <tr>\n",
              "      <th>16</th>\n",
              "      <td>user__order_count</td>\n",
              "      <td>0.303730</td>\n",
              "    </tr>\n",
              "    <tr>\n",
              "      <th>4</th>\n",
              "      <td>user_product__total_orders</td>\n",
              "      <td>0.296857</td>\n",
              "    </tr>\n",
              "    <tr>\n",
              "      <th>6</th>\n",
              "      <td>user_product__reordered_mean</td>\n",
              "      <td>0.206326</td>\n",
              "    </tr>\n",
              "    <tr>\n",
              "      <th>0</th>\n",
              "      <td>order_number</td>\n",
              "      <td>0.077054</td>\n",
              "    </tr>\n",
              "    <tr>\n",
              "      <th>12</th>\n",
              "      <td>product__reordered_mean</td>\n",
              "      <td>0.076045</td>\n",
              "    </tr>\n",
              "    <tr>\n",
              "      <th>19</th>\n",
              "      <td>user__reordered_mean</td>\n",
              "      <td>0.009702</td>\n",
              "    </tr>\n",
              "    <tr>\n",
              "      <th>9</th>\n",
              "      <td>product__total_orders</td>\n",
              "      <td>0.006644</td>\n",
              "    </tr>\n",
              "    <tr>\n",
              "      <th>3</th>\n",
              "      <td>days_since_prior_order</td>\n",
              "      <td>0.004204</td>\n",
              "    </tr>\n",
              "    <tr>\n",
              "      <th>18</th>\n",
              "      <td>user__days_since_prior_order_mean</td>\n",
              "      <td>0.003836</td>\n",
              "    </tr>\n",
              "    <tr>\n",
              "      <th>17</th>\n",
              "      <td>user__product_count</td>\n",
              "      <td>0.003048</td>\n",
              "    </tr>\n",
              "    <tr>\n",
              "      <th>11</th>\n",
              "      <td>product__total_users</td>\n",
              "      <td>0.002875</td>\n",
              "    </tr>\n",
              "    <tr>\n",
              "      <th>35</th>\n",
              "      <td>product__department_id__13</td>\n",
              "      <td>0.002386</td>\n",
              "    </tr>\n",
              "    <tr>\n",
              "      <th>15</th>\n",
              "      <td>product__days_since_prior_order_mean</td>\n",
              "      <td>0.001978</td>\n",
              "    </tr>\n",
              "    <tr>\n",
              "      <th>10</th>\n",
              "      <td>product__add_to_cart_order_mean</td>\n",
              "      <td>0.001700</td>\n",
              "    </tr>\n",
              "    <tr>\n",
              "      <th>21</th>\n",
              "      <td>user__most_hod</td>\n",
              "      <td>0.000849</td>\n",
              "    </tr>\n",
              "  </tbody>\n",
              "</table>\n",
              "</div>\n",
              "      <button class=\"colab-df-convert\" onclick=\"convertToInteractive('df-e68f1751-c336-4fcb-af9a-d8ff23a1bfc6')\"\n",
              "              title=\"Convert this dataframe to an interactive table.\"\n",
              "              style=\"display:none;\">\n",
              "        \n",
              "  <svg xmlns=\"http://www.w3.org/2000/svg\" height=\"24px\"viewBox=\"0 0 24 24\"\n",
              "       width=\"24px\">\n",
              "    <path d=\"M0 0h24v24H0V0z\" fill=\"none\"/>\n",
              "    <path d=\"M18.56 5.44l.94 2.06.94-2.06 2.06-.94-2.06-.94-.94-2.06-.94 2.06-2.06.94zm-11 1L8.5 8.5l.94-2.06 2.06-.94-2.06-.94L8.5 2.5l-.94 2.06-2.06.94zm10 10l.94 2.06.94-2.06 2.06-.94-2.06-.94-.94-2.06-.94 2.06-2.06.94z\"/><path d=\"M17.41 7.96l-1.37-1.37c-.4-.4-.92-.59-1.43-.59-.52 0-1.04.2-1.43.59L10.3 9.45l-7.72 7.72c-.78.78-.78 2.05 0 2.83L4 21.41c.39.39.9.59 1.41.59.51 0 1.02-.2 1.41-.59l7.78-7.78 2.81-2.81c.8-.78.8-2.07 0-2.86zM5.41 20L4 18.59l7.72-7.72 1.47 1.35L5.41 20z\"/>\n",
              "  </svg>\n",
              "      </button>\n",
              "      \n",
              "  <style>\n",
              "    .colab-df-container {\n",
              "      display:flex;\n",
              "      flex-wrap:wrap;\n",
              "      gap: 12px;\n",
              "    }\n",
              "\n",
              "    .colab-df-convert {\n",
              "      background-color: #E8F0FE;\n",
              "      border: none;\n",
              "      border-radius: 50%;\n",
              "      cursor: pointer;\n",
              "      display: none;\n",
              "      fill: #1967D2;\n",
              "      height: 32px;\n",
              "      padding: 0 0 0 0;\n",
              "      width: 32px;\n",
              "    }\n",
              "\n",
              "    .colab-df-convert:hover {\n",
              "      background-color: #E2EBFA;\n",
              "      box-shadow: 0px 1px 2px rgba(60, 64, 67, 0.3), 0px 1px 3px 1px rgba(60, 64, 67, 0.15);\n",
              "      fill: #174EA6;\n",
              "    }\n",
              "\n",
              "    [theme=dark] .colab-df-convert {\n",
              "      background-color: #3B4455;\n",
              "      fill: #D2E3FC;\n",
              "    }\n",
              "\n",
              "    [theme=dark] .colab-df-convert:hover {\n",
              "      background-color: #434B5C;\n",
              "      box-shadow: 0px 1px 3px 1px rgba(0, 0, 0, 0.15);\n",
              "      filter: drop-shadow(0px 1px 2px rgba(0, 0, 0, 0.3));\n",
              "      fill: #FFFFFF;\n",
              "    }\n",
              "  </style>\n",
              "\n",
              "      <script>\n",
              "        const buttonEl =\n",
              "          document.querySelector('#df-e68f1751-c336-4fcb-af9a-d8ff23a1bfc6 button.colab-df-convert');\n",
              "        buttonEl.style.display =\n",
              "          google.colab.kernel.accessAllowed ? 'block' : 'none';\n",
              "\n",
              "        async function convertToInteractive(key) {\n",
              "          const element = document.querySelector('#df-e68f1751-c336-4fcb-af9a-d8ff23a1bfc6');\n",
              "          const dataTable =\n",
              "            await google.colab.kernel.invokeFunction('convertToInteractive',\n",
              "                                                     [key], {});\n",
              "          if (!dataTable) return;\n",
              "\n",
              "          const docLinkHtml = 'Like what you see? Visit the ' +\n",
              "            '<a target=\"_blank\" href=https://colab.research.google.com/notebooks/data_table.ipynb>data table notebook</a>'\n",
              "            + ' to learn more about interactive tables.';\n",
              "          element.innerHTML = '';\n",
              "          dataTable['output_type'] = 'display_data';\n",
              "          await google.colab.output.renderOutput(dataTable, element);\n",
              "          const docLink = document.createElement('div');\n",
              "          docLink.innerHTML = docLinkHtml;\n",
              "          element.appendChild(docLink);\n",
              "        }\n",
              "      </script>\n",
              "    </div>\n",
              "  </div>\n",
              "  "
            ]
          },
          "metadata": {},
          "execution_count": 27
        }
      ],
      "source": [
        "top15_features"
      ]
    },
    {
      "cell_type": "markdown",
      "metadata": {
        "id": "ABYLJtNjP6Cb"
      },
      "source": [
        "4.3. Train Neural Network Model"
      ]
    },
    {
      "cell_type": "code",
      "execution_count": null,
      "metadata": {
        "id": "O-bDtbDjJttm"
      },
      "outputs": [],
      "source": [
        "# Feed forward neural network\n",
        "def create_model():\n",
        "    model = keras.Sequential([\n",
        "        ### layer input\n",
        "        keras.layers.Dense(30, input_dim=15, activation='relu'),\n",
        "        ###  layer 1\n",
        "        keras.layers.Dense(15, activation='relu'),\n",
        "        ###  layer 2\n",
        "        keras.layers.Dense(5, activation='relu'),\n",
        "        ### layer output\n",
        "        keras.layers.Dense(units=1, activation='sigmoid')\n",
        "    ])\n",
        "    model.compile(optimizer='adam', loss='binary_crossentropy')\n",
        "    return model"
      ]
    },
    {
      "cell_type": "code",
      "execution_count": null,
      "metadata": {
        "id": "eVz6qSCGQJBJ"
      },
      "outputs": [],
      "source": [
        "# wrap the model using the function you created\n",
        "NN_model = KerasClassifier(build_fn=create_model, epochs=64, batch_size=32, verbose=0)"
      ]
    },
    {
      "cell_type": "code",
      "execution_count": null,
      "metadata": {
        "id": "xRNmgCkA9Y0h"
      },
      "outputs": [],
      "source": [
        "keras_model = create_model()"
      ]
    },
    {
      "cell_type": "code",
      "execution_count": null,
      "metadata": {
        "id": "JoHtyOct9ZQE",
        "colab": {
          "base_uri": "https://localhost:8080/"
        },
        "outputId": "bee691f8-31a6-4e6e-f586-8ab7f703f7a0"
      },
      "outputs": [
        {
          "output_type": "stream",
          "name": "stdout",
          "text": [
            "Model: \"sequential\"\n",
            "_________________________________________________________________\n",
            " Layer (type)                Output Shape              Param #   \n",
            "=================================================================\n",
            " dense (Dense)               (None, 30)                480       \n",
            "                                                                 \n",
            " dense_1 (Dense)             (None, 15)                465       \n",
            "                                                                 \n",
            " dense_2 (Dense)             (None, 5)                 80        \n",
            "                                                                 \n",
            " dense_3 (Dense)             (None, 1)                 6         \n",
            "                                                                 \n",
            "=================================================================\n",
            "Total params: 1,031\n",
            "Trainable params: 1,031\n",
            "Non-trainable params: 0\n",
            "_________________________________________________________________\n",
            "None\n"
          ]
        }
      ],
      "source": [
        "print(keras_model.summary())"
      ]
    },
    {
      "cell_type": "code",
      "execution_count": null,
      "metadata": {
        "id": "0lPrxjveR3M3",
        "colab": {
          "base_uri": "https://localhost:8080/",
          "height": 466
        },
        "outputId": "19819a0a-cd4e-4c0e-ab00-68927f98691e"
      },
      "outputs": [
        {
          "output_type": "execute_result",
          "data": {
            "image/png": "[encoded data removed]",
            "text/plain": [
              "<IPython.core.display.Image object>"
            ]
          },
          "metadata": {},
          "execution_count": 32
        }
      ],
      "source": [
        "plot_model(keras_model)"
      ]
    },
    {
      "cell_type": "markdown",
      "metadata": {
        "id": "6H3jtmIrQLOQ"
      },
      "source": [
        "4.4. (Optional) Model Selection with Selected Top 15 Features including Neural Network Model"
      ]
    },
    {
      "cell_type": "code",
      "execution_count": null,
      "metadata": {
        "id": "3yPD0iMPQK7U"
      },
      "outputs": [],
      "source": [
        "# Add our neural network model to our classifiers list.\n",
        "classifiers.append(NN_model)"
      ]
    },
    {
      "cell_type": "code",
      "execution_count": null,
      "metadata": {
        "id": "xpvZE8tRtASN",
        "colab": {
          "base_uri": "https://localhost:8080/"
        },
        "outputId": "b27e46d9-8d13-4cf8-8705-18dfd17353fa"
      },
      "outputs": [
        {
          "output_type": "stream",
          "name": "stdout",
          "text": [
            "CPU times: user 5.2 s, sys: 3.25 s, total: 8.45 s\n",
            "Wall time: 4.68 s\n",
            "LogisticRegression : F1 value is 34.792 (2.742)\n",
            "==============\n",
            "CPU times: user 4.11 s, sys: 117 ms, total: 4.23 s\n",
            "Wall time: 4.13 s\n",
            "DecisionTreeClassifier : F1 value is 24.674 (1.293)\n",
            "==============\n",
            "CPU times: user 54.2 s, sys: 398 ms, total: 54.6 s\n",
            "Wall time: 54.4 s\n",
            "RandomForestClassifier : F1 value is 33.566 (3.069)\n",
            "==============\n",
            "CPU times: user 17.8 s, sys: 152 ms, total: 17.9 s\n",
            "Wall time: 17.9 s\n",
            "AdaBoostClassifier : F1 value is 34.500 (3.447)\n",
            "==============\n",
            "CPU times: user 1min 3s, sys: 176 ms, total: 1min 3s\n",
            "Wall time: 1min 3s\n",
            "GradientBoostingClassifier : F1 value is 35.186 (3.466)\n",
            "==============\n",
            "CPU times: user 13min 16s, sys: 1min 6s, total: 14min 23s\n",
            "Wall time: 12min 2s\n",
            "KerasClassifier : F1 value is 35.689 (1.050)\n",
            "==============\n"
          ]
        }
      ],
      "source": [
        "for classifier in classifiers:\n",
        "  pipeline = build_ml_pipeline(classifier)\n",
        "  %time scores = cross_val_score(pipeline, train_validation_data_x_select_features, train_validation_data_y, cv=5, scoring='f1')\n",
        "  print(classifier.__class__.__name__, ': F1 value is %.3f (%.3f)' % (np.mean(scores)*100, np.std(scores)*100))\n",
        "  print('==============')"
      ]
    },
    {
      "cell_type": "markdown",
      "metadata": {
        "id": "4vy3cZ7guiLk"
      },
      "source": [
        "# 6. Hyper-parameter tuning for GradientBoostingClassifier"
      ]
    },
    {
      "cell_type": "markdown",
      "metadata": {
        "id": "4UFYGTxOGEST"
      },
      "source": [
        "Here we use 5% of the data to do hyper-paremter tuning."
      ]
    },
    {
      "cell_type": "code",
      "execution_count": null,
      "metadata": {
        "id": "ucQ1x7GnGHcm"
      },
      "outputs": [],
      "source": [
        "# optional \n",
        "sample_user_ids = train_validation_data.user_id.drop_duplicates().sample(frac=0.05)\n",
        "train_validation_data_sample = train_validation_data[train_validation_data.user_id.isin(sample_user_ids)]"
      ]
    },
    {
      "cell_type": "code",
      "execution_count": null,
      "metadata": {
        "id": "hwh6srjHwRDo"
      },
      "outputs": [],
      "source": [
        "train_validation_data_sample_x = train_validation_data_sample.drop(['user_id', 'product_id', 'label'],axis=1)[top15_features['feature']]\n",
        "train_validation_data_sample_y = train_validation_data_sample['label']"
      ]
    },
    {
      "cell_type": "code",
      "execution_count": null,
      "metadata": {
        "id": "bG3wXppgmJDC"
      },
      "outputs": [],
      "source": [
        "param_grid = {\n",
        "    'model__n_estimators': [100,150],\n",
        "    'model__max_depth': [4,6],\n",
        "    'model__min_samples_split': [2,4,6],\n",
        "    'model__learning_rate': [0.005, 0.01],\n",
        "}"
      ]
    },
    {
      "cell_type": "code",
      "execution_count": null,
      "metadata": {
        "colab": {
          "base_uri": "https://localhost:8080/"
        },
        "id": "arLrEAdMmJTI",
        "outputId": "671527e6-2409-4ae5-d18a-fd1889e373e7"
      },
      "outputs": [
        {
          "output_type": "execute_result",
          "data": {
            "text/plain": [
              "GridSearchCV(cv=5,\n",
              "             estimator=Pipeline(steps=[('fillnan',\n",
              "                                        SimpleImputer(fill_value=0.0,\n",
              "                                                      strategy='constant')),\n",
              "                                       ('downSample', RandomUnderSampler()),\n",
              "                                       ('scaler', MinMaxScaler()),\n",
              "                                       ('model',\n",
              "                                        GradientBoostingClassifier())]),\n",
              "             param_grid={'model__learning_rate': [0.005, 0.01],\n",
              "                         'model__max_depth': [4, 6],\n",
              "                         'model__min_samples_split': [2, 4, 6],\n",
              "                         'model__n_estimators': [100, 150]},\n",
              "             scoring='f1')"
            ]
          },
          "metadata": {},
          "execution_count": 38
        }
      ],
      "source": [
        "grid = GridSearchCV(build_ml_pipeline(GradientBoostingClassifier()), cv=5, param_grid=param_grid, scoring='f1')\n",
        "grid.fit(train_validation_data_sample_x, train_validation_data_sample_y)"
      ]
    },
    {
      "cell_type": "code",
      "execution_count": null,
      "metadata": {
        "colab": {
          "base_uri": "https://localhost:8080/"
        },
        "id": "numnXp_OmMmj",
        "outputId": "a3c7707c-de52-4460-db9e-4f2623b1fd27"
      },
      "outputs": [
        {
          "output_type": "stream",
          "name": "stdout",
          "text": [
            "Best F1 value is 0.325\n",
            "Params are {'model__learning_rate': 0.01, 'model__max_depth': 4, 'model__min_samples_split': 4, 'model__n_estimators': 100}\n"
          ]
        }
      ],
      "source": [
        "print(\"Best F1 value is %.3f\" % grid.best_score_)\n",
        "print(\"Params are %s\" % grid.best_params_)"
      ]
    },
    {
      "cell_type": "markdown",
      "metadata": {
        "id": "Nqn05xvAywxj"
      },
      "source": [
        "# 7. Train the final GradientBoostingClassifier "
      ]
    },
    {
      "cell_type": "markdown",
      "metadata": {
        "id": "8v8ocP33HOa-"
      },
      "source": [
        "7.1. Train the final model with all training+validation data and the best hyper-parameters."
      ]
    },
    {
      "cell_type": "code",
      "execution_count": null,
      "metadata": {
        "colab": {
          "base_uri": "https://localhost:8080/"
        },
        "id": "f8ZBUZTPtAPD",
        "outputId": "05cf3748-af5b-4be0-d9ae-6c858f3206e0"
      },
      "outputs": [
        {
          "output_type": "execute_result",
          "data": {
            "text/plain": [
              "Pipeline(steps=[('fillnan', SimpleImputer(fill_value=0.0, strategy='constant')),\n",
              "                ('downSample', RandomUnderSampler()),\n",
              "                ('scaler', MinMaxScaler()),\n",
              "                ('model',\n",
              "                 GradientBoostingClassifier(learning_rate=0.005, max_depth=4))])"
            ]
          },
          "metadata": {},
          "execution_count": 40
        }
      ],
      "source": [
        "pipeline = build_ml_pipeline(GradientBoostingClassifier(\n",
        "    n_estimators=100,\n",
        "    min_samples_split=2,\n",
        "    max_depth=4,\n",
        "    learning_rate=0.005,\n",
        "))\n",
        "\n",
        "pipeline.fit(train_validation_data_x_select_features, train_validation_data_y)"
      ]
    },
    {
      "cell_type": "code",
      "execution_count": null,
      "metadata": {
        "colab": {
          "base_uri": "https://localhost:8080/",
          "height": 519
        },
        "id": "xjxglMXyrrmH",
        "outputId": "5e1a5aa7-842a-4745-ce19-c092a018a718"
      },
      "outputs": [
        {
          "output_type": "execute_result",
          "data": {
            "text/plain": [
              "                                 feature  importance\n",
              "1             user_product__total_orders    0.324949\n",
              "2           user_product__reordered_mean    0.306055\n",
              "0                      user__order_count    0.290641\n",
              "3                           order_number    0.037997\n",
              "4                product__reordered_mean    0.037893\n",
              "6                  product__total_orders    0.001497\n",
              "11            product__department_id__13    0.000731\n",
              "8      user__days_since_prior_order_mean    0.000237\n",
              "5                   user__reordered_mean    0.000000\n",
              "7                 days_since_prior_order    0.000000\n",
              "9                    user__product_count    0.000000\n",
              "10                  product__total_users    0.000000\n",
              "12  product__days_since_prior_order_mean    0.000000\n",
              "13       product__add_to_cart_order_mean    0.000000\n",
              "14                        user__most_hod    0.000000"
            ],
            "text/html": [
              "\n",
              "  <div id=\"df-4fb05729-add9-4be3-85b3-9d4cb336e395\">\n",
              "    <div class=\"colab-df-container\">\n",
              "      <div>\n",
              "<style scoped>\n",
              "    .dataframe tbody tr th:only-of-type {\n",
              "        vertical-align: middle;\n",
              "    }\n",
              "\n",
              "    .dataframe tbody tr th {\n",
              "        vertical-align: top;\n",
              "    }\n",
              "\n",
              "    .dataframe thead th {\n",
              "        text-align: right;\n",
              "    }\n",
              "</style>\n",
              "<table border=\"1\" class=\"dataframe\">\n",
              "  <thead>\n",
              "    <tr style=\"text-align: right;\">\n",
              "      <th></th>\n",
              "      <th>feature</th>\n",
              "      <th>importance</th>\n",
              "    </tr>\n",
              "  </thead>\n",
              "  <tbody>\n",
              "    <tr>\n",
              "      <th>1</th>\n",
              "      <td>user_product__total_orders</td>\n",
              "      <td>0.324949</td>\n",
              "    </tr>\n",
              "    <tr>\n",
              "      <th>2</th>\n",
              "      <td>user_product__reordered_mean</td>\n",
              "      <td>0.306055</td>\n",
              "    </tr>\n",
              "    <tr>\n",
              "      <th>0</th>\n",
              "      <td>user__order_count</td>\n",
              "      <td>0.290641</td>\n",
              "    </tr>\n",
              "    <tr>\n",
              "      <th>3</th>\n",
              "      <td>order_number</td>\n",
              "      <td>0.037997</td>\n",
              "    </tr>\n",
              "    <tr>\n",
              "      <th>4</th>\n",
              "      <td>product__reordered_mean</td>\n",
              "      <td>0.037893</td>\n",
              "    </tr>\n",
              "    <tr>\n",
              "      <th>6</th>\n",
              "      <td>product__total_orders</td>\n",
              "      <td>0.001497</td>\n",
              "    </tr>\n",
              "    <tr>\n",
              "      <th>11</th>\n",
              "      <td>product__department_id__13</td>\n",
              "      <td>0.000731</td>\n",
              "    </tr>\n",
              "    <tr>\n",
              "      <th>8</th>\n",
              "      <td>user__days_since_prior_order_mean</td>\n",
              "      <td>0.000237</td>\n",
              "    </tr>\n",
              "    <tr>\n",
              "      <th>5</th>\n",
              "      <td>user__reordered_mean</td>\n",
              "      <td>0.000000</td>\n",
              "    </tr>\n",
              "    <tr>\n",
              "      <th>7</th>\n",
              "      <td>days_since_prior_order</td>\n",
              "      <td>0.000000</td>\n",
              "    </tr>\n",
              "    <tr>\n",
              "      <th>9</th>\n",
              "      <td>user__product_count</td>\n",
              "      <td>0.000000</td>\n",
              "    </tr>\n",
              "    <tr>\n",
              "      <th>10</th>\n",
              "      <td>product__total_users</td>\n",
              "      <td>0.000000</td>\n",
              "    </tr>\n",
              "    <tr>\n",
              "      <th>12</th>\n",
              "      <td>product__days_since_prior_order_mean</td>\n",
              "      <td>0.000000</td>\n",
              "    </tr>\n",
              "    <tr>\n",
              "      <th>13</th>\n",
              "      <td>product__add_to_cart_order_mean</td>\n",
              "      <td>0.000000</td>\n",
              "    </tr>\n",
              "    <tr>\n",
              "      <th>14</th>\n",
              "      <td>user__most_hod</td>\n",
              "      <td>0.000000</td>\n",
              "    </tr>\n",
              "  </tbody>\n",
              "</table>\n",
              "</div>\n",
              "      <button class=\"colab-df-convert\" onclick=\"convertToInteractive('df-4fb05729-add9-4be3-85b3-9d4cb336e395')\"\n",
              "              title=\"Convert this dataframe to an interactive table.\"\n",
              "              style=\"display:none;\">\n",
              "        \n",
              "  <svg xmlns=\"http://www.w3.org/2000/svg\" height=\"24px\"viewBox=\"0 0 24 24\"\n",
              "       width=\"24px\">\n",
              "    <path d=\"M0 0h24v24H0V0z\" fill=\"none\"/>\n",
              "    <path d=\"M18.56 5.44l.94 2.06.94-2.06 2.06-.94-2.06-.94-.94-2.06-.94 2.06-2.06.94zm-11 1L8.5 8.5l.94-2.06 2.06-.94-2.06-.94L8.5 2.5l-.94 2.06-2.06.94zm10 10l.94 2.06.94-2.06 2.06-.94-2.06-.94-.94-2.06-.94 2.06-2.06.94z\"/><path d=\"M17.41 7.96l-1.37-1.37c-.4-.4-.92-.59-1.43-.59-.52 0-1.04.2-1.43.59L10.3 9.45l-7.72 7.72c-.78.78-.78 2.05 0 2.83L4 21.41c.39.39.9.59 1.41.59.51 0 1.02-.2 1.41-.59l7.78-7.78 2.81-2.81c.8-.78.8-2.07 0-2.86zM5.41 20L4 18.59l7.72-7.72 1.47 1.35L5.41 20z\"/>\n",
              "  </svg>\n",
              "      </button>\n",
              "      \n",
              "  <style>\n",
              "    .colab-df-container {\n",
              "      display:flex;\n",
              "      flex-wrap:wrap;\n",
              "      gap: 12px;\n",
              "    }\n",
              "\n",
              "    .colab-df-convert {\n",
              "      background-color: #E8F0FE;\n",
              "      border: none;\n",
              "      border-radius: 50%;\n",
              "      cursor: pointer;\n",
              "      display: none;\n",
              "      fill: #1967D2;\n",
              "      height: 32px;\n",
              "      padding: 0 0 0 0;\n",
              "      width: 32px;\n",
              "    }\n",
              "\n",
              "    .colab-df-convert:hover {\n",
              "      background-color: #E2EBFA;\n",
              "      box-shadow: 0px 1px 2px rgba(60, 64, 67, 0.3), 0px 1px 3px 1px rgba(60, 64, 67, 0.15);\n",
              "      fill: #174EA6;\n",
              "    }\n",
              "\n",
              "    [theme=dark] .colab-df-convert {\n",
              "      background-color: #3B4455;\n",
              "      fill: #D2E3FC;\n",
              "    }\n",
              "\n",
              "    [theme=dark] .colab-df-convert:hover {\n",
              "      background-color: #434B5C;\n",
              "      box-shadow: 0px 1px 3px 1px rgba(0, 0, 0, 0.15);\n",
              "      filter: drop-shadow(0px 1px 2px rgba(0, 0, 0, 0.3));\n",
              "      fill: #FFFFFF;\n",
              "    }\n",
              "  </style>\n",
              "\n",
              "      <script>\n",
              "        const buttonEl =\n",
              "          document.querySelector('#df-4fb05729-add9-4be3-85b3-9d4cb336e395 button.colab-df-convert');\n",
              "        buttonEl.style.display =\n",
              "          google.colab.kernel.accessAllowed ? 'block' : 'none';\n",
              "\n",
              "        async function convertToInteractive(key) {\n",
              "          const element = document.querySelector('#df-4fb05729-add9-4be3-85b3-9d4cb336e395');\n",
              "          const dataTable =\n",
              "            await google.colab.kernel.invokeFunction('convertToInteractive',\n",
              "                                                     [key], {});\n",
              "          if (!dataTable) return;\n",
              "\n",
              "          const docLinkHtml = 'Like what you see? Visit the ' +\n",
              "            '<a target=\"_blank\" href=https://colab.research.google.com/notebooks/data_table.ipynb>data table notebook</a>'\n",
              "            + ' to learn more about interactive tables.';\n",
              "          element.innerHTML = '';\n",
              "          dataTable['output_type'] = 'display_data';\n",
              "          await google.colab.output.renderOutput(dataTable, element);\n",
              "          const docLink = document.createElement('div');\n",
              "          docLink.innerHTML = docLinkHtml;\n",
              "          element.appendChild(docLink);\n",
              "        }\n",
              "      </script>\n",
              "    </div>\n",
              "  </div>\n",
              "  "
            ]
          },
          "metadata": {},
          "execution_count": 41
        }
      ],
      "source": [
        "importances = pipeline.steps[3][1].feature_importances_\n",
        "feature_names=train_validation_data_x_select_features.columns.tolist()\n",
        "df_importances = pd.DataFrame(\n",
        "    {\"feature\":feature_names, \"importance\":importances}).sort_values(\"importance\", ascending=False)\n",
        "df_importances.head(15)"
      ]
    },
    {
      "cell_type": "markdown",
      "metadata": {
        "id": "mw9sVzvD05tW"
      },
      "source": [
        "# 8. Evaluate model on Test Data "
      ]
    },
    {
      "cell_type": "markdown",
      "metadata": {
        "id": "r4jPG0FjH_n6"
      },
      "source": [
        "8.1. Predict product reorder on Test Data"
      ]
    },
    {
      "cell_type": "code",
      "execution_count": null,
      "metadata": {
        "id": "zpbLdh5B1cVi"
      },
      "outputs": [],
      "source": [
        "test_data_x_selected_features = test_data.drop(['user_id', 'product_id', 'label'],axis=1)[top15_features['feature']]\n",
        "test_data_y = test_data['label']"
      ]
    },
    {
      "cell_type": "code",
      "execution_count": null,
      "metadata": {
        "id": "rizYT4wLrrj9"
      },
      "outputs": [],
      "source": [
        "predict_y = pipeline.predict(test_data_x_selected_features)"
      ]
    },
    {
      "cell_type": "code",
      "execution_count": null,
      "metadata": {
        "id": "nKmMW2FO6uA2"
      },
      "outputs": [],
      "source": [
        "df_output = pd.DataFrame(\n",
        "    {\"user_id\":test_data.user_id, \"product_id\":test_data.product_id, \"predict\":predict_y, \"label\":test_data.label})   "
      ]
    },
    {
      "cell_type": "code",
      "execution_count": null,
      "metadata": {
        "colab": {
          "base_uri": "https://localhost:8080/",
          "height": 206
        },
        "id": "CfOrPEA77eMg",
        "outputId": "d44d47c9-a958-49cd-d3b0-8de42b1640d5"
      },
      "outputs": [
        {
          "output_type": "execute_result",
          "data": {
            "text/plain": [
              "      user_id  product_id  predict  label\n",
              "1328   135743       30597        0      0\n",
              "1329   135743       29471        0      0\n",
              "1330   135743       44632        0      1\n",
              "1331   135743       21709        1      1\n",
              "1332   135743       20682        0      0"
            ],
            "text/html": [
              "\n",
              "  <div id=\"df-243fa5bc-6467-4d6d-94c6-5490f2110579\">\n",
              "    <div class=\"colab-df-container\">\n",
              "      <div>\n",
              "<style scoped>\n",
              "    .dataframe tbody tr th:only-of-type {\n",
              "        vertical-align: middle;\n",
              "    }\n",
              "\n",
              "    .dataframe tbody tr th {\n",
              "        vertical-align: top;\n",
              "    }\n",
              "\n",
              "    .dataframe thead th {\n",
              "        text-align: right;\n",
              "    }\n",
              "</style>\n",
              "<table border=\"1\" class=\"dataframe\">\n",
              "  <thead>\n",
              "    <tr style=\"text-align: right;\">\n",
              "      <th></th>\n",
              "      <th>user_id</th>\n",
              "      <th>product_id</th>\n",
              "      <th>predict</th>\n",
              "      <th>label</th>\n",
              "    </tr>\n",
              "  </thead>\n",
              "  <tbody>\n",
              "    <tr>\n",
              "      <th>1328</th>\n",
              "      <td>135743</td>\n",
              "      <td>30597</td>\n",
              "      <td>0</td>\n",
              "      <td>0</td>\n",
              "    </tr>\n",
              "    <tr>\n",
              "      <th>1329</th>\n",
              "      <td>135743</td>\n",
              "      <td>29471</td>\n",
              "      <td>0</td>\n",
              "      <td>0</td>\n",
              "    </tr>\n",
              "    <tr>\n",
              "      <th>1330</th>\n",
              "      <td>135743</td>\n",
              "      <td>44632</td>\n",
              "      <td>0</td>\n",
              "      <td>1</td>\n",
              "    </tr>\n",
              "    <tr>\n",
              "      <th>1331</th>\n",
              "      <td>135743</td>\n",
              "      <td>21709</td>\n",
              "      <td>1</td>\n",
              "      <td>1</td>\n",
              "    </tr>\n",
              "    <tr>\n",
              "      <th>1332</th>\n",
              "      <td>135743</td>\n",
              "      <td>20682</td>\n",
              "      <td>0</td>\n",
              "      <td>0</td>\n",
              "    </tr>\n",
              "  </tbody>\n",
              "</table>\n",
              "</div>\n",
              "      <button class=\"colab-df-convert\" onclick=\"convertToInteractive('df-243fa5bc-6467-4d6d-94c6-5490f2110579')\"\n",
              "              title=\"Convert this dataframe to an interactive table.\"\n",
              "              style=\"display:none;\">\n",
              "        \n",
              "  <svg xmlns=\"http://www.w3.org/2000/svg\" height=\"24px\"viewBox=\"0 0 24 24\"\n",
              "       width=\"24px\">\n",
              "    <path d=\"M0 0h24v24H0V0z\" fill=\"none\"/>\n",
              "    <path d=\"M18.56 5.44l.94 2.06.94-2.06 2.06-.94-2.06-.94-.94-2.06-.94 2.06-2.06.94zm-11 1L8.5 8.5l.94-2.06 2.06-.94-2.06-.94L8.5 2.5l-.94 2.06-2.06.94zm10 10l.94 2.06.94-2.06 2.06-.94-2.06-.94-.94-2.06-.94 2.06-2.06.94z\"/><path d=\"M17.41 7.96l-1.37-1.37c-.4-.4-.92-.59-1.43-.59-.52 0-1.04.2-1.43.59L10.3 9.45l-7.72 7.72c-.78.78-.78 2.05 0 2.83L4 21.41c.39.39.9.59 1.41.59.51 0 1.02-.2 1.41-.59l7.78-7.78 2.81-2.81c.8-.78.8-2.07 0-2.86zM5.41 20L4 18.59l7.72-7.72 1.47 1.35L5.41 20z\"/>\n",
              "  </svg>\n",
              "      </button>\n",
              "      \n",
              "  <style>\n",
              "    .colab-df-container {\n",
              "      display:flex;\n",
              "      flex-wrap:wrap;\n",
              "      gap: 12px;\n",
              "    }\n",
              "\n",
              "    .colab-df-convert {\n",
              "      background-color: #E8F0FE;\n",
              "      border: none;\n",
              "      border-radius: 50%;\n",
              "      cursor: pointer;\n",
              "      display: none;\n",
              "      fill: #1967D2;\n",
              "      height: 32px;\n",
              "      padding: 0 0 0 0;\n",
              "      width: 32px;\n",
              "    }\n",
              "\n",
              "    .colab-df-convert:hover {\n",
              "      background-color: #E2EBFA;\n",
              "      box-shadow: 0px 1px 2px rgba(60, 64, 67, 0.3), 0px 1px 3px 1px rgba(60, 64, 67, 0.15);\n",
              "      fill: #174EA6;\n",
              "    }\n",
              "\n",
              "    [theme=dark] .colab-df-convert {\n",
              "      background-color: #3B4455;\n",
              "      fill: #D2E3FC;\n",
              "    }\n",
              "\n",
              "    [theme=dark] .colab-df-convert:hover {\n",
              "      background-color: #434B5C;\n",
              "      box-shadow: 0px 1px 3px 1px rgba(0, 0, 0, 0.15);\n",
              "      filter: drop-shadow(0px 1px 2px rgba(0, 0, 0, 0.3));\n",
              "      fill: #FFFFFF;\n",
              "    }\n",
              "  </style>\n",
              "\n",
              "      <script>\n",
              "        const buttonEl =\n",
              "          document.querySelector('#df-243fa5bc-6467-4d6d-94c6-5490f2110579 button.colab-df-convert');\n",
              "        buttonEl.style.display =\n",
              "          google.colab.kernel.accessAllowed ? 'block' : 'none';\n",
              "\n",
              "        async function convertToInteractive(key) {\n",
              "          const element = document.querySelector('#df-243fa5bc-6467-4d6d-94c6-5490f2110579');\n",
              "          const dataTable =\n",
              "            await google.colab.kernel.invokeFunction('convertToInteractive',\n",
              "                                                     [key], {});\n",
              "          if (!dataTable) return;\n",
              "\n",
              "          const docLinkHtml = 'Like what you see? Visit the ' +\n",
              "            '<a target=\"_blank\" href=https://colab.research.google.com/notebooks/data_table.ipynb>data table notebook</a>'\n",
              "            + ' to learn more about interactive tables.';\n",
              "          element.innerHTML = '';\n",
              "          dataTable['output_type'] = 'display_data';\n",
              "          await google.colab.output.renderOutput(dataTable, element);\n",
              "          const docLink = document.createElement('div');\n",
              "          docLink.innerHTML = docLinkHtml;\n",
              "          element.appendChild(docLink);\n",
              "        }\n",
              "      </script>\n",
              "    </div>\n",
              "  </div>\n",
              "  "
            ]
          },
          "metadata": {},
          "execution_count": 45
        }
      ],
      "source": [
        "df_output.head()"
      ]
    },
    {
      "cell_type": "code",
      "execution_count": null,
      "metadata": {
        "id": "4L6ljHzwjbvH"
      },
      "outputs": [],
      "source": [
        "predict_y_prob = pipeline.predict_proba(test_data_x_selected_features)[:,1]"
      ]
    },
    {
      "cell_type": "markdown",
      "metadata": {
        "id": "AFk7X0L6IH5M"
      },
      "source": [
        "8.2. Analyze classification result"
      ]
    },
    {
      "cell_type": "code",
      "execution_count": null,
      "metadata": {
        "colab": {
          "base_uri": "https://localhost:8080/",
          "height": 296
        },
        "id": "TCUtHi3BrraA",
        "outputId": "f8c560af-da36-499e-b3fe-e16e0f11441a"
      },
      "outputs": [
        {
          "output_type": "execute_result",
          "data": {
            "text/plain": [
              "<sklearn.metrics._plot.confusion_matrix.ConfusionMatrixDisplay at 0x7f4448c91090>"
            ]
          },
          "metadata": {},
          "execution_count": 47
        },
        {
          "output_type": "display_data",
          "data": {
            "text/plain": [
              "<Figure size 432x288 with 2 Axes>"
            ],
            "image/png": "[encoded data removed]"
          },
          "metadata": {
            "needs_background": "light"
          }
        }
      ],
      "source": [
        "plot_confusion_matrix(pipeline, test_data_x_selected_features, test_data_y,\n",
        "                      display_labels=[\"not reorder\",\"reorder\"],cmap=plt.cm.Blues)"
      ]
    },
    {
      "cell_type": "code",
      "execution_count": null,
      "metadata": {
        "id": "NDjIATvirrUk"
      },
      "outputs": [],
      "source": [
        "acc = accuracy_score(test_data_y, predict_y)\n",
        "f1 = f1_score(test_data_y, predict_y)\n",
        "pre = precision_score(test_data_y, predict_y)\n",
        "rec = recall_score(test_data_y, predict_y)\n",
        "auc = roc_auc_score(test_data_y, predict_y_prob) "
      ]
    },
    {
      "cell_type": "code",
      "execution_count": null,
      "metadata": {
        "colab": {
          "base_uri": "https://localhost:8080/"
        },
        "id": "LxOiEL5d4pFz",
        "outputId": "cd0c588d-9535-4eac-d622-61a238e40929"
      },
      "outputs": [
        {
          "output_type": "stream",
          "name": "stdout",
          "text": [
            "Model evaluation result on test data: \n",
            "F1 Score : 33.5670%\n",
            "ROC AUC : 78.8161%\n",
            "Accuracy : 73.0624%\n",
            "Precision : 22.1492%\n",
            "Recall : 69.2814%\n"
          ]
        }
      ],
      "source": [
        "print(\"Model evaluation result on test data: \")\n",
        "print(\"F1 Score : {:.4%}\".format(f1))\n",
        "print(\"ROC AUC : {:.4%}\".format(auc))\n",
        "print(\"Accuracy : {:.4%}\".format(acc))\n",
        "print(\"Precision : {:.4%}\".format(pre))\n",
        "print(\"Recall : {:.4%}\".format(rec))"
      ]
    }
  ],
  "metadata": {
    "colab": {
      "provenance": []
    },
    "kernelspec": {
      "display_name": "Python 3",
      "name": "python3"
    }
  },
  "nbformat": 4,
  "nbformat_minor": 0
}